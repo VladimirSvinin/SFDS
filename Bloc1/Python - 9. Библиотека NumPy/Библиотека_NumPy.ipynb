{
  "cells": [
    {
      "cell_type": "markdown",
      "metadata": {
        "id": "YWUAoEGaga25"
      },
      "source": [
        "###Модуль Collections\n",
        "1. Объект counter часто используется для для подсчёта элементов"
      ]
    },
    {
      "cell_type": "code",
      "execution_count": null,
      "metadata": {
        "id": "0RZYx1lAga26",
        "outputId": "857a8965-40f7-4383-bd15-a355ebaab95f"
      },
      "outputs": [
        {
          "name": "stdout",
          "output_type": "stream",
          "text": [
            "Counter({'red': 1})\n"
          ]
        }
      ],
      "source": [
        "#Импортируем объект Counter из модуля collections\n",
        "from collections import Counter\n",
        "# Создаём пустой объект Counter\n",
        "c = Counter()\n",
        "c['red'] += 1\n",
        "print(c)"
      ]
    },
    {
      "cell_type": "code",
      "execution_count": null,
      "metadata": {
        "id": "u3-f_80Uga28",
        "outputId": "9330b838-aafb-45fa-a532-4a98871ff479"
      },
      "outputs": [
        {
          "name": "stdout",
          "output_type": "stream",
          "text": [
            "Counter({'red': 3, 'black': 3, 'blue': 2, 'white': 1})\n"
          ]
        }
      ],
      "source": [
        "cars = ['red', 'blue', 'black', 'black', 'black', 'red', 'blue', 'red', 'white']\n",
        "c = Counter()\n",
        "for car in cars:\n",
        "    c[car] += 1\n",
        "\n",
        "print(c)"
      ]
    },
    {
      "cell_type": "code",
      "execution_count": null,
      "metadata": {
        "id": "atH3F2FKga28",
        "outputId": "b4889032-db29-4146-92c9-f14c4abc91a4"
      },
      "outputs": [
        {
          "name": "stdout",
          "output_type": "stream",
          "text": [
            "Counter({'red': 3, 'black': 3, 'blue': 2, 'white': 1})\n"
          ]
        }
      ],
      "source": [
        "# То же самое можно сделать и другим способом: сразу передать в круглых скобках итерируемый объект, в котором необходимо посчитать значения:\n",
        "c = Counter(cars)\n",
        "print(c)"
      ]
    },
    {
      "cell_type": "code",
      "execution_count": null,
      "metadata": {
        "id": "b8MyovcKga28",
        "outputId": "bfbda16c-08e2-4620-d91f-5932fe7e1f4f"
      },
      "outputs": [
        {
          "name": "stdout",
          "output_type": "stream",
          "text": [
            "3\n",
            "0\n",
            "9\n",
            "dict_values([3, 2, 3, 1])\n"
          ]
        }
      ],
      "source": [
        "# смотрим сколько раз нам попадался каждый из объектов\n",
        "print(c['black'])\n",
        "print(c['purple'])\n",
        "print(sum(c.values()))\n",
        "print(c.values())"
      ]
    },
    {
      "cell_type": "code",
      "execution_count": null,
      "metadata": {
        "id": "1SIG519nga29",
        "outputId": "b6f52a4b-cfcc-46bd-f41d-c4a40bd6317a"
      },
      "outputs": [
        {
          "name": "stdout",
          "output_type": "stream",
          "text": [
            "Counter({'black': 4, 'yellow': 3, 'white': 2})\n",
            "Counter({'white': 3, 'red': 2, 'black': 2, 'yellow': 2})\n",
            "Counter({'black': 6, 'white': 5, 'yellow': 5, 'red': 2})\n"
          ]
        }
      ],
      "source": [
        "cars_moscow = ['black', 'black', 'white', 'black', 'black', 'white', 'yellow', 'yellow', 'yellow']\n",
        "cars_spb = ['red', 'black', 'black', 'white', 'white', 'yellow', 'yellow', 'red', 'white']\n",
        "counter_moscow = Counter(cars_moscow)\n",
        "counter_spb = Counter(cars_spb)\n",
        "print(counter_moscow)\n",
        "print(counter_spb)\n",
        "print(counter_moscow + counter_spb)\n"
      ]
    },
    {
      "cell_type": "code",
      "execution_count": null,
      "metadata": {
        "id": "fe8PSjB-ga29",
        "outputId": "b143ad8f-dbe1-4d4a-e9a1-10b60204ef35"
      },
      "outputs": [
        {
          "name": "stdout",
          "output_type": "stream",
          "text": [
            "Counter({'black': 2, 'yellow': 1, 'white': -1, 'red': -2})\n"
          ]
        }
      ],
      "source": [
        "counter_moscow.subtract(counter_spb) # вычиатем один каунтер из другого\n",
        "print(counter_moscow)"
      ]
    },
    {
      "cell_type": "code",
      "execution_count": null,
      "metadata": {
        "id": "ezZ5hGY2ga29",
        "outputId": "2cd32ba0-9a52-4308-f1a8-826a98205f99"
      },
      "outputs": [
        {
          "name": "stdout",
          "output_type": "stream",
          "text": [
            "Counter({'black': 2, 'yellow': 1})\n"
          ]
        }
      ],
      "source": [
        "# Пересоздаём счётчики, потому что объект counter_moscow поменял свои значения\n",
        "# после функции subtract.\n",
        "counter_moscow = Counter(cars_moscow)\n",
        "counter_spb = Counter(cars_spb)\n",
        "\n",
        "print(counter_moscow - counter_spb)"
      ]
    },
    {
      "cell_type": "code",
      "execution_count": null,
      "metadata": {
        "id": "cs0PuS4uga2-",
        "outputId": "97ac2509-0ab2-4c60-9a05-26ee9f1aa194"
      },
      "outputs": [
        {
          "name": "stdout",
          "output_type": "stream",
          "text": [
            "black black black black white white yellow yellow yellow\n"
          ]
        }
      ],
      "source": [
        "#Получаем список элементов, для этого распакуем каунтер\n",
        "print(*counter_moscow.elements())"
      ]
    },
    {
      "cell_type": "code",
      "execution_count": null,
      "metadata": {
        "id": "kVBgmRs8ga2-",
        "outputId": "cbddf6ba-9651-4b96-ed61-90087496a7d7"
      },
      "outputs": [
        {
          "name": "stdout",
          "output_type": "stream",
          "text": [
            "['black', 'white', 'yellow']\n",
            "{'black': 4, 'white': 2, 'yellow': 3}\n",
            "[('black', 4), ('yellow', 3), ('white', 2)]\n",
            "[('black', 4), ('yellow', 3)]\n",
            "Counter()\n"
          ]
        }
      ],
      "source": [
        "#Чтобы получить список уникальных элементов, достаточно воспользоваться функцией list():\n",
        "print(list(counter_moscow))\n",
        "print(dict(counter_moscow))\n",
        "print(counter_moscow.most_common())\n",
        "print(counter_moscow.most_common(2))\n",
        "counter_moscow.clear()\n",
        "print(counter_moscow)"
      ]
    },
    {
      "cell_type": "markdown",
      "metadata": {
        "id": "t0vYSrMEga2-"
      },
      "source": [
        "###Defaultdict\n",
        "Например, у нас есть список кортежей ниже"
      ]
    },
    {
      "cell_type": "code",
      "execution_count": null,
      "metadata": {
        "id": "21UA4ZBhga2-",
        "outputId": "a201defa-6d54-464d-f9eb-2c840a39bbca"
      },
      "outputs": [
        {
          "name": "stdout",
          "output_type": "stream",
          "text": [
            "{1: ['Ivanov', 'Kuznetsova'], 4: ['Smirnov'], 3: ['Petrov', 'Markov'], 2: ['Nikitina', 'Pavlov']}\n"
          ]
        }
      ],
      "source": [
        "students = [('Ivanov',1),('Smirnov',4),('Petrov',3),('Kuznetsova',1),\n",
        "            ('Nikitina',2),('Markov',3),('Pavlov',2)]\n",
        "#Сохраним эти данные в словаре, в котором ключами будут номера групп,\n",
        "# а элементами — списки студентов. Сделать это можно следующим образом:\n",
        "groups = dict()\n",
        "\n",
        "for student, group in students:\n",
        "    # Проверяем, есть ли уже эта группа в словаре\n",
        "    if group not in groups:\n",
        "        # Если группы ещё нет в словаре, создаём для неё пустой список\n",
        "        groups[group] = list()\n",
        "    groups[group].append(student)\n",
        "\n",
        "print(groups)"
      ]
    },
    {
      "cell_type": "markdown",
      "metadata": {
        "id": "5oFCRgmmga2_"
      },
      "source": [
        "В данном коде в цикле for происходит распаковка кортежа: в переменные цикла student и group попадают первый и второй элементы кортежей из списка students. То есть на первой итерации цикла в переменной student содержится строка 'Ivanov', а в переменной group — целое число 1. На второй итерации цикла в переменной student содержится строка 'Smirnov', а в переменной group — целое число 4. И так далее.\n",
        "Обратите внимание, что для решения этой задачи нам потребовался шаг с проверкой наличия номера группы в словаре. Если номера группы не было, для этой группы мы создавали новый список в словаре. Без шага проверки мы бы натолкнулись на KeyError:\n",
        "\n",
        "groups = dict()\n",
        "\n",
        "for student, group in students:\n",
        "    groups[group].append(student)\n",
        "\n",
        "print(groups)\n",
        "# KeyError: 1"
      ]
    },
    {
      "cell_type": "markdown",
      "metadata": {
        "id": "VbSZqPEcga2_"
      },
      "source": [
        "То же самое можно сделать и другим способом"
      ]
    },
    {
      "cell_type": "code",
      "execution_count": null,
      "metadata": {
        "id": "526IsWsuga2_",
        "outputId": "3344632a-49a6-4824-ead0-b598f69d0269"
      },
      "outputs": [
        {
          "name": "stdout",
          "output_type": "stream",
          "text": [
            "defaultdict(<class 'list'>, {1: ['Ivanov', 'Kuznetsova'], 4: ['Smirnov'], 3: ['Petrov', 'Markov'], 2: ['Nikitina', 'Pavlov']})\n",
            "['Petrov', 'Markov']\n",
            "[]\n",
            "defaultdict(<class 'list'>, {1: ['Ivanov', 'Kuznetsova'], 4: ['Smirnov'], 3: ['Petrov', 'Markov'], 2: ['Nikitina', 'Pavlov'], 2021: []})\n"
          ]
        }
      ],
      "source": [
        "from collections import defaultdict\n",
        "groups = defaultdict(list)\n",
        "for student, group in students:\n",
        "    groups[group].append(student)\n",
        "\n",
        "print(groups)\n",
        "print(groups[3])\n",
        "print(groups[2021]) #Теперь в словаре groups автоматически появился элемент 2021\n",
        "#с пустым списком внутри, несмотря на то что мы его не создавали:\n",
        "print(groups)"
      ]
    },
    {
      "cell_type": "code",
      "execution_count": null,
      "metadata": {
        "id": "lRGygvNRga2_",
        "outputId": "c06ddcdc-ae5f-45e1-994d-2f37dfad6ca7"
      },
      "outputs": [
        {
          "name": "stdout",
          "output_type": "stream",
          "text": [
            "<class 'dict'>\n",
            "<class 'collections.defaultdict'>\n"
          ]
        }
      ],
      "source": [
        "# Разбираемся с чем конркетно мы имеем дело в коде\n",
        "dict_object = dict()\n",
        "defaultdict_object = defaultdict()\n",
        "\n",
        "print(type(dict_object))\n",
        "print(type(defaultdict_object))"
      ]
    },
    {
      "cell_type": "code",
      "execution_count": null,
      "metadata": {
        "id": "b7vW172dga2_",
        "outputId": "a6ece79e-b948-46cd-9f80-fed22a5509b7"
      },
      "outputs": [
        {
          "name": "stdout",
          "output_type": "stream",
          "text": [
            "{}\n",
            "defaultdict(None, {})\n"
          ]
        }
      ],
      "source": [
        "print(dict_object)\n",
        "print(defaultdict_object)"
      ]
    },
    {
      "cell_type": "markdown",
      "metadata": {
        "id": "IIhgkZ9Xga2_"
      },
      "source": [
        "###Модуль Collections. Deque и OrderedDict\n",
        "\n",
        "OrderedDict гарантирует сохранение ключей в порядке их добавления. В обычном случае (если версия Python младше 3.7) этот порядок не гарантирутеся и каждый раз при создании словаря может быть разный"
      ]
    },
    {
      "cell_type": "code",
      "execution_count": null,
      "metadata": {
        "id": "GxYU1a_yga2_",
        "outputId": "db2661d1-bf90-4170-a5a3-1042ea663dba"
      },
      "outputs": [
        {
          "name": "stdout",
          "output_type": "stream",
          "text": [
            "OrderedDict([('Ivan', 19), ('Mark', 25), ('Andrey', 23), ('Maria', 20)])\n"
          ]
        }
      ],
      "source": [
        "from collections import OrderedDict\n",
        "data = [('Ivan', 19),('Mark', 25),('Andrey', 23),('Maria', 20)]\n",
        "ordered_client_ages = OrderedDict(data)\n",
        "print(ordered_client_ages)"
      ]
    },
    {
      "cell_type": "code",
      "execution_count": null,
      "metadata": {
        "id": "Eyoi-MSpga2_",
        "outputId": "4dea91c5-e020-4026-9f14-96c2b979684f"
      },
      "outputs": [
        {
          "name": "stdout",
          "output_type": "stream",
          "text": [
            "OrderedDict([('Ivan', 19), ('Maria', 20), ('Andrey', 23), ('Mark', 25)])\n"
          ]
        }
      ],
      "source": [
        "data = [('Ivan', 19),('Mark', 25),('Andrey', 23),('Maria', 20)]\n",
        "# Сортируем по второму значению из кортежа, то есть по возрасту\n",
        "ordered_client_ages = OrderedDict(sorted(data, key=lambda x: x[1]))\n",
        "print(ordered_client_ages)"
      ]
    },
    {
      "cell_type": "markdown",
      "metadata": {
        "id": "G9nJ5-aIga2_"
      },
      "source": [
        "Если теперь добавить нового человека в словарь, новая запись окажется в конце:"
      ]
    },
    {
      "cell_type": "code",
      "execution_count": null,
      "metadata": {
        "id": "JLzyBhIwga3A",
        "outputId": "d97b19de-7bfe-4429-978d-b2c9a84ac6b9"
      },
      "outputs": [
        {
          "name": "stdout",
          "output_type": "stream",
          "text": [
            "OrderedDict([('Ivan', 19), ('Maria', 20), ('Andrey', 23), ('Mark', 25), ('Nikita', 18)])\n"
          ]
        }
      ],
      "source": [
        "ordered_client_ages['Nikita'] = 18\n",
        "print(ordered_client_ages)"
      ]
    },
    {
      "cell_type": "markdown",
      "metadata": {
        "id": "MkETWe6Lga3A"
      },
      "source": [
        "Если удалить элемент, а затем добавить его снова, он также окажется в конце:"
      ]
    },
    {
      "cell_type": "markdown",
      "metadata": {
        "id": "h3HJ17v2ga3A"
      },
      "source": [
        "###Deque"
      ]
    },
    {
      "cell_type": "markdown",
      "metadata": {
        "id": "w4cbtGubga3A"
      },
      "source": [
        "Очередь — это упорядоченный тип данных, который обладает двумя ключевыми функциями: добавление элемента в конец очереди и извлечение самого первого элемента из очереди. То есть очередь подразумевает, что тот элемент, который первым добавлен в очередь, будет первым потом и обработан. Всё как в обычной очереди! Этот принцип сокращённо также называется FIFO (от англ. First In — First Out, «первым пришёл — первым ушёл»)."
      ]
    },
    {
      "cell_type": "markdown",
      "metadata": {
        "id": "TXpTt9l7ga3A"
      },
      "source": [
        "Стек (от англ. stack — стопка) — это упорядоченный тип данных, который обладает двумя основными функциями: добавление элемента в конец стека и извлечение элемента из конца стека. Эта структура данных также называется рюкзаком. Действительно, представьте себе, что вы набили вещами рюкзак. Теперь, когда вы решите достать из него самую верхнюю вещь, что это будет за вещь? Верно — та самая, которую вы убрали в рюкзак последней. Поэтому принцип стека (рюкзака) также сокращённо называется LIFO (Last In — First Out, «последним пришёл — первым ушёл»)."
      ]
    },
    {
      "cell_type": "markdown",
      "metadata": {
        "id": "kSt71qetga3A"
      },
      "source": [
        "Наконец, существует структура данных deque (читается как «дек», англ. double-ended queue — двухконцевая очередь). Она объединяет в себе возможности и стека, и очереди: содержит функции, которые позволяют добавлять элементы в начало или в конец очереди, а также извлекать первый или последний элемент из неё."
      ]
    },
    {
      "cell_type": "code",
      "execution_count": null,
      "metadata": {
        "id": "aa4pqcw5ga3A",
        "outputId": "dea6834d-4ac6-4d96-9bcf-6314ad6600a0"
      },
      "outputs": [
        {
          "name": "stdout",
          "output_type": "stream",
          "text": [
            "deque([])\n"
          ]
        }
      ],
      "source": [
        "from collections import deque\n",
        "dq = deque()\n",
        "print(dq)"
      ]
    },
    {
      "cell_type": "markdown",
      "metadata": {
        "id": "wUgYBAOcga3A"
      },
      "source": [
        "У deque есть четыре ключевые функции:\n",
        "\n",
        "1) append (добавить элемент в конец дека);\n",
        "2) appendleft (добавить элемент в начало дека);\n",
        "3) pop (удалить и вернуть элемент из конца дека);\n",
        "4) popleft (удалить и вернуть элемент из начала дека)."
      ]
    },
    {
      "cell_type": "code",
      "execution_count": null,
      "metadata": {
        "id": "aXuunMfUga3A",
        "outputId": "b8ee74c3-198f-4e13-d95b-afcb43bf1ade"
      },
      "outputs": [
        {
          "name": "stdout",
          "output_type": "stream",
          "text": [
            "deque(['Ivanov', 'Petrov', 'Smirnov', 'Tikhonova'])\n",
            "Smirnov\n"
          ]
        }
      ],
      "source": [
        "clients = deque()\n",
        "clients.append('Ivanov')\n",
        "clients.append('Petrov')\n",
        "clients.append('Smirnov')\n",
        "clients.append('Tikhonova')\n",
        "print(clients)\n",
        "print(clients[2])"
      ]
    },
    {
      "cell_type": "code",
      "execution_count": null,
      "metadata": {
        "id": "5TuQBciYga3A",
        "outputId": "a9ce032a-2862-4acf-cdf7-8545f0fa41f3"
      },
      "outputs": [
        {
          "name": "stdout",
          "output_type": "stream",
          "text": [
            "First client: Ivanov\n",
            "Second client: Petrov\n",
            "deque(['Smirnov', 'Tikhonova'])\n"
          ]
        }
      ],
      "source": [
        "first_client = clients.popleft()\n",
        "second_client = clients.popleft()\n",
        "\n",
        "print(\"First client:\", first_client)\n",
        "print(\"Second client:\", second_client)\n",
        "print(clients)"
      ]
    },
    {
      "cell_type": "code",
      "execution_count": null,
      "metadata": {
        "id": "-MJcPwTWga3A",
        "outputId": "cdcd502b-ffd5-4820-906d-ebb0304e926e"
      },
      "outputs": [
        {
          "name": "stdout",
          "output_type": "stream",
          "text": [
            "deque(['Vip-client', 'Smirnov', 'Tikhonova'])\n"
          ]
        }
      ],
      "source": [
        "clients.appendleft('Vip-client')\n",
        "print(clients)"
      ]
    },
    {
      "cell_type": "code",
      "execution_count": null,
      "metadata": {
        "id": "ARCPj_zkga3B",
        "outputId": "755df203-81ba-45c0-a7b7-55d6fc0b2acd"
      },
      "outputs": [
        {
          "name": "stdout",
          "output_type": "stream",
          "text": [
            "Tikhonova left the queue\n",
            "deque(['Vip-client', 'Smirnov'])\n"
          ]
        }
      ],
      "source": [
        "tired_client = clients.pop()\n",
        "print(tired_client, \"left the queue\")\n",
        "print(clients)"
      ]
    },
    {
      "cell_type": "markdown",
      "metadata": {
        "id": "vSf5WKw_ga3B"
      },
      "source": [
        "С помощью pop всегда удаляется последний элемент из дэка. Чтобы удалить конкретный элемент по индексу, необходимо воспользоваться встроенной конструкцией del:"
      ]
    },
    {
      "cell_type": "code",
      "execution_count": null,
      "metadata": {
        "id": "knHPD84ega3B",
        "outputId": "1175fb47-3f14-49ad-91c7-6927b6bb9f7a"
      },
      "outputs": [
        {
          "name": "stdout",
          "output_type": "stream",
          "text": [
            "deque(['Ivanov', 'Petrov', 'Smirnov', 'Tikhonova'])\n",
            "deque(['Ivanov', 'Petrov', 'Tikhonova'])\n"
          ]
        }
      ],
      "source": [
        "clients = deque(['Ivanov', 'Petrov', 'Smirnov', 'Tikhonova'])\n",
        "print(clients)\n",
        "del clients[2]\n",
        "print(clients)"
      ]
    },
    {
      "cell_type": "code",
      "execution_count": null,
      "metadata": {
        "id": "_JyClUfEga3B",
        "outputId": "f25e4e57-172e-4acc-d6bf-570e86e80fdf"
      },
      "outputs": [
        {
          "name": "stdout",
          "output_type": "stream",
          "text": [
            "deque([1, 2, 3, 4, 5])\n",
            "deque([1, 2, 3, 4, 5, 11, 12, 13, 14, 15, 16, 17])\n"
          ]
        }
      ],
      "source": [
        "shop = deque([1, 2, 3, 4, 5])\n",
        "print(shop)\n",
        "shop.extend([11, 12, 13, 14, 15, 16, 17])\n",
        "print(shop)"
      ]
    },
    {
      "cell_type": "code",
      "execution_count": null,
      "metadata": {
        "id": "7C8pfZuFga3B",
        "outputId": "da51c5da-2f19-4ab7-ed87-4ed99b0ebb21"
      },
      "outputs": [
        {
          "name": "stdout",
          "output_type": "stream",
          "text": [
            "deque([1, 2, 3, 4, 5])\n",
            "deque([17, 16, 15, 14, 13, 12, 11, 1, 2, 3, 4, 5])\n"
          ]
        }
      ],
      "source": [
        "shop = deque([1, 2, 3, 4, 5])\n",
        "print(shop)\n",
        "shop.extendleft([11, 12, 13, 14, 15, 16, 17])\n",
        "print(shop)"
      ]
    },
    {
      "cell_type": "markdown",
      "metadata": {
        "id": "2XPx0y9nga3B"
      },
      "source": [
        "Обратите внимание, что «клиенты из автобуса» оказались в очереди не в том порядке, в каком они «выходили из автобуса». То есть добавленные номера не только приписаны перед записанными в очереди номерами, но также порядок добавленных элементов поменялся на обратный. Это связано с тем, что действие функции extendleft аналогично многократному применению функции appendleft, поэтому самый последний клиент из автобуса оказался в итоге первым в очереди."
      ]
    },
    {
      "cell_type": "code",
      "execution_count": null,
      "metadata": {
        "id": "8VTx02Noga3B",
        "outputId": "c21ed77a-e591-4afe-8ae2-a22082aa8255"
      },
      "outputs": [
        {
          "name": "stdout",
          "output_type": "stream",
          "text": [
            "deque([], maxlen=3)\n",
            "deque([5, 6, 7], maxlen=3)\n"
          ]
        }
      ],
      "source": [
        "limited = deque(maxlen=3)\n",
        "print(limited)\n",
        "limited_from_list = deque([1,3,4,5,6,7], maxlen=3)\n",
        "print(limited_from_list)"
      ]
    },
    {
      "cell_type": "code",
      "execution_count": null,
      "metadata": {
        "id": "IHM3YdZUga3F",
        "outputId": "5a920740-3af7-4093-e0b6-2e42d8a4c1ff"
      },
      "outputs": [
        {
          "name": "stdout",
          "output_type": "stream",
          "text": [
            "deque([1, 2, 3], maxlen=3)\n",
            "None\n",
            "deque([2, 3, 8], maxlen=3)\n"
          ]
        }
      ],
      "source": [
        "limited.extend([1,2,3])\n",
        "print(limited)\n",
        "print(limited.append(8))\n",
        "print(limited)"
      ]
    },
    {
      "cell_type": "code",
      "execution_count": null,
      "metadata": {
        "id": "Wj0h7IGDga3G",
        "outputId": "3e7a4382-5e0c-4265-e05d-375f3ddb2057"
      },
      "outputs": [
        {
          "name": "stdout",
          "output_type": "stream",
          "text": [
            "20.77; 21.27; 22.16; 23.3; 24.44; 24.94; 25.56; 26.2; 25.97; 25.94; 25.57; 25.1; 24.81; 24.21; 23.23; 22.57; 21.41; 20.4; 19.6; 19.1; 19.04; 18.96; 19.44; 20.01; 20.67; \n"
          ]
        }
      ],
      "source": [
        "temps = [20.6, 19.4, 19.0, 19.0, 22.1,\n",
        "        22.5, 22.8, 24.1, 25.6, 27.0,\n",
        "        27.0, 25.6, 26.8, 27.3, 22.5,\n",
        "        25.4, 24.4, 23.7, 23.6, 22.6,\n",
        "        20.4, 17.9, 17.3, 17.3, 18.1,\n",
        "        20.1, 22.2, 19.8, 21.3, 21.3,\n",
        "        21.9]\n",
        "days = deque(maxlen=7)\n",
        "for temp in temps:\n",
        "    # Добавляем температуру в очередь\n",
        "    days.append(temp)\n",
        "    # Если длина очереди оказалась равной максимальной длине очереди (7),\n",
        "    # печатаем среднюю температуру за последние 7 дней\n",
        "    if len(days) == days.maxlen:\n",
        "        print(round(sum(days) / len(days), 2), end='; ')\n",
        "# Напечатаем пустую строку, чтобы завершить действие параметра\n",
        "# end. Иначе следующая строка окажется напечатанной на предыдущей\n",
        "print(\"\")"
      ]
    },
    {
      "cell_type": "code",
      "execution_count": null,
      "metadata": {
        "id": "3gm771T6ga3G",
        "outputId": "732cc1a9-5ab0-497c-8f44-c61e96bee4a3"
      },
      "outputs": [
        {
          "name": "stdout",
          "output_type": "stream",
          "text": [
            "deque([1, 2, 3, 4, 5])\n",
            "deque([5, 4, 3, 2, 1])\n"
          ]
        }
      ],
      "source": [
        "dq = deque([1,2,3,4,5])\n",
        "print(dq)\n",
        "dq.reverse()\n",
        "print(dq)"
      ]
    },
    {
      "cell_type": "code",
      "execution_count": null,
      "metadata": {
        "id": "noUo4n7bga3G",
        "outputId": "4c3e5e4c-7805-4ffc-c9dc-77b14efebb3c"
      },
      "outputs": [
        {
          "name": "stdout",
          "output_type": "stream",
          "text": [
            "deque([1, 2, 3, 4, 5])\n",
            "deque([4, 5, 1, 2, 3])\n",
            "deque([3, 4, 5, 1, 2])\n"
          ]
        }
      ],
      "source": [
        "dq = deque([1,2,3,4,5])\n",
        "print(dq)\n",
        "dq.rotate(2)\n",
        "print(dq)\n",
        "#rotate переносит N заданных элементов из конца очереди в начало:\n",
        "dq = deque([1,2,3,4,5])\n",
        "dq.rotate(-2)\n",
        "print(dq)"
      ]
    },
    {
      "cell_type": "code",
      "execution_count": null,
      "metadata": {
        "id": "C9v7VIrPga3G",
        "outputId": "9fea09ed-6f67-4907-ba5e-dc71e1dfed0d"
      },
      "outputs": [
        {
          "name": "stdout",
          "output_type": "stream",
          "text": [
            "2\n",
            "6\n"
          ]
        }
      ],
      "source": [
        "dq = [1,2,4,2,3,1,5,4,4,4,4,4,3]\n",
        "print(dq.index(4))\n",
        "print(dq.count(4))"
      ]
    },
    {
      "cell_type": "code",
      "execution_count": null,
      "metadata": {
        "id": "Gqxt6-kYga3G",
        "outputId": "279568b7-8425-4fa2-993e-8748abbebf65"
      },
      "outputs": [
        {
          "ename": "ValueError",
          "evalue": "25 is not in deque",
          "output_type": "error",
          "traceback": [
            "\u001b[1;31m---------------------------------------------------------------------------\u001b[0m",
            "\u001b[1;31mValueError\u001b[0m                                Traceback (most recent call last)",
            "Cell \u001b[1;32mIn[46], line 2\u001b[0m\n\u001b[0;32m      1\u001b[0m dq \u001b[38;5;241m=\u001b[39m deque([\u001b[38;5;241m1\u001b[39m,\u001b[38;5;241m2\u001b[39m,\u001b[38;5;241m4\u001b[39m,\u001b[38;5;241m2\u001b[39m,\u001b[38;5;241m3\u001b[39m,\u001b[38;5;241m1\u001b[39m,\u001b[38;5;241m5\u001b[39m,\u001b[38;5;241m4\u001b[39m,\u001b[38;5;241m4\u001b[39m,\u001b[38;5;241m4\u001b[39m,\u001b[38;5;241m4\u001b[39m,\u001b[38;5;241m4\u001b[39m,\u001b[38;5;241m3\u001b[39m])\n\u001b[1;32m----> 2\u001b[0m \u001b[38;5;28mprint\u001b[39m(\u001b[43mdq\u001b[49m\u001b[38;5;241;43m.\u001b[39;49m\u001b[43mindex\u001b[49m\u001b[43m(\u001b[49m\u001b[38;5;241;43m25\u001b[39;49m\u001b[43m)\u001b[49m)\n",
            "\u001b[1;31mValueError\u001b[0m: 25 is not in deque"
          ]
        }
      ],
      "source": [
        "dq = deque([1,2,4,2,3,1,5,4,4,4,4,4,3])\n",
        "print(dq.index(25))"
      ]
    },
    {
      "cell_type": "code",
      "execution_count": null,
      "metadata": {
        "id": "FmRPS9D9ga3G",
        "outputId": "36aac303-5f91-4bc8-d725-2a8c629b2ce8"
      },
      "outputs": [
        {
          "name": "stdout",
          "output_type": "stream",
          "text": [
            "0\n"
          ]
        }
      ],
      "source": [
        "dq = deque([1,2,4,2,3,1,5,4,4,4,4,4,3])\n",
        "print(dq.count(25))"
      ]
    },
    {
      "cell_type": "code",
      "execution_count": null,
      "metadata": {
        "id": "uSxRNq-Vga3G",
        "outputId": "a8401d68-680c-4b76-bbc3-b6f4f59ce86b"
      },
      "outputs": [
        {
          "name": "stdout",
          "output_type": "stream",
          "text": [
            "deque([1, 2, 4, 2, 3, 1, 5, 4, 4, 4, 4, 4, 3])\n",
            "deque([])\n"
          ]
        }
      ],
      "source": [
        "dq = deque([1,2,4,2,3,1,5,4,4,4,4,4,3])\n",
        "print(dq)\n",
        "dq.clear()\n",
        "print(dq)"
      ]
    },
    {
      "cell_type": "markdown",
      "metadata": {
        "id": "Bsa6AImyga3G"
      },
      "source": [
        "Дан список из кортежей temps. На первом месте в кортеже указан год в виде строки, а на втором — средняя температура января в Петербурге в указанном году.\n",
        "\n",
        "Напишите функцию check(temps), которая будет выводить словарь, в котором ключи — годы, а значения — показатели температуры. Ключи необходимо отсортировать в порядке убывания соответствующих им температур."
      ]
    },
    {
      "cell_type": "code",
      "execution_count": null,
      "metadata": {
        "id": "TTzpE_tYga3G",
        "outputId": "12e2915a-55d1-467c-80a0-c70ad7bf042b"
      },
      "outputs": [
        {
          "data": {
            "text/plain": [
              "OrderedDict([('2001', -2.5), ('2000', -4.4), ('2002', -4.4), ('2003', -9.5)])"
            ]
          },
          "execution_count": 52,
          "metadata": {},
          "output_type": "execute_result"
        }
      ],
      "source": [
        "temps = [('2000', -4.4), ('2001', -2.5), ('2002', -4.4), ('2003', -9.5)]\n",
        "def check(temps):\n",
        "    sorted_temps = OrderedDict(sorted(temps, key = lambda x: x[1], reverse= True))\n",
        "    print(sorted_temps)\n",
        "check(temps)"
      ]
    },
    {
      "cell_type": "code",
      "execution_count": null,
      "metadata": {
        "id": "kpRJ1g4Zga3H"
      },
      "outputs": [],
      "source": [
        "ordered_client_ages = OrderedDict(sorted(data, key=lambda x: x[1]))"
      ]
    },
    {
      "cell_type": "markdown",
      "metadata": {
        "id": "5T-ztha0ga3H"
      },
      "source": [
        "Упаражнения"
      ]
    },
    {
      "cell_type": "code",
      "execution_count": null,
      "metadata": {
        "id": "awn9tf7Nga3H",
        "outputId": "615010d4-8a0b-4786-b485-8e1ac52d11da"
      },
      "outputs": [
        {
          "name": "stdout",
          "output_type": "stream",
          "text": [
            "deque([6, 18, 4, 7, 8, 8, 5, 18, 12, 17, 13, 15, 6, 7, 9, 17, 18, 8, 4, 11, 10, 8, 2, 10, 6, 10, 10, 9])\n",
            "6\n",
            "8\n"
          ]
        }
      ],
      "source": [
        "users = [6, 18, 4, 7, 8, 8, 5, 18, 12, 17, 13, 15, 6, 7, 9, 17, 18, 8, 4, 11, 10, 8, 2, 10, 6, 10, 10, 9]\n",
        "users_dq = deque()\n",
        "users_dq.extend(users)\n",
        "print(users_dq)\n",
        "print(users_dq[0])\n",
        "users_dq.rotate(-5)\n",
        "print(users_dq[-1])\n"
      ]
    },
    {
      "cell_type": "markdown",
      "metadata": {
        "id": "66Sr2s_Iga3H"
      },
      "source": [
        "Напишите функцию brackets(line), которая определяет, является ли последовательность из круглых скобок line правильной.\n",
        "\n",
        "Примечание 1. Какая последовательность скобок правильная?\n",
        "\n",
        "Правильной скобочной последовательностью назовём такую последовательность скобок, в которой для каждой открывающей скобки есть последующая соответствующая ей закрывающая скобка. Соответственно, остальные скобочные последовательности назовём неправильными. Пустую строку будем считать правильной последовательностью.\n",
        "\n",
        "Примечание 2.Для решения этой задачи потребуется использовать стек.\n",
        "\n",
        "Посимвольно переберите строку. Если встретилась открывающаяся скобка, положите её в стек. Если встретилась закрывающаяся скобка, извлеките скобку из стека.\n",
        "\n",
        "Если стек пустой, то есть извлечь скобку нельзя, последовательность неправильная.\n",
        "Если строка закончилась и стек стал пустым, последовательность правильная.\n",
        "Если в стеке остались скобки, последовательность неправильная.\n",
        "\n",
        "\n",
        "print(brackets(\"(()())\"))\n",
        "# True\n",
        "print(brackets(\"\"))\n",
        "# True\n",
        "print(brackets(\"(()()))\"))\n",
        "# False\n"
      ]
    },
    {
      "cell_type": "code",
      "execution_count": null,
      "metadata": {
        "id": "t33JIHwRga3H",
        "outputId": "3e9fcde7-f3c9-4419-96dd-d0e46c5d4ff9"
      },
      "outputs": [
        {
          "name": "stdout",
          "output_type": "stream",
          "text": [
            "(\n",
            "True\n"
          ]
        },
        {
          "ename": "IndexError",
          "evalue": "string index out of range",
          "output_type": "error",
          "traceback": [
            "\u001b[1;31m---------------------------------------------------------------------------\u001b[0m",
            "\u001b[1;31mIndexError\u001b[0m                                Traceback (most recent call last)",
            "Cell \u001b[1;32mIn[63], line 14\u001b[0m\n\u001b[0;32m     12\u001b[0m     \u001b[38;5;28;01melse\u001b[39;00m: \u001b[38;5;28;01mreturn\u001b[39;00m \u001b[38;5;28;01mFalse\u001b[39;00m\n\u001b[0;32m     13\u001b[0m \u001b[38;5;28mprint\u001b[39m(brackets(\u001b[38;5;124m\"\u001b[39m\u001b[38;5;124m(()())\u001b[39m\u001b[38;5;124m\"\u001b[39m))\n\u001b[1;32m---> 14\u001b[0m \u001b[38;5;28mprint\u001b[39m(\u001b[43mbrackets\u001b[49m\u001b[43m(\u001b[49m\u001b[38;5;124;43m\"\u001b[39;49m\u001b[38;5;124;43m\"\u001b[39;49m\u001b[43m)\u001b[49m)\n\u001b[0;32m     15\u001b[0m \u001b[38;5;28mprint\u001b[39m(brackets(\u001b[38;5;124m\"\u001b[39m\u001b[38;5;124m(()()))\u001b[39m\u001b[38;5;124m\"\u001b[39m))\n",
            "Cell \u001b[1;32mIn[63], line 5\u001b[0m, in \u001b[0;36mbrackets\u001b[1;34m(line)\u001b[0m\n\u001b[0;32m      3\u001b[0m closing_counter \u001b[38;5;241m=\u001b[39m \u001b[38;5;241m0\u001b[39m\n\u001b[0;32m      4\u001b[0m cond1 \u001b[38;5;241m=\u001b[39m closing_counter \u001b[38;5;241m==\u001b[39m opening_counter\n\u001b[1;32m----> 5\u001b[0m cond2 \u001b[38;5;241m=\u001b[39m \u001b[43mline\u001b[49m\u001b[43m[\u001b[49m\u001b[38;5;241;43m0\u001b[39;49m\u001b[43m]\u001b[49m \u001b[38;5;241m==\u001b[39m \u001b[38;5;124m'\u001b[39m\u001b[38;5;124m(\u001b[39m\u001b[38;5;124m'\u001b[39m\n\u001b[0;32m      6\u001b[0m \u001b[38;5;28mprint\u001b[39m(line[\u001b[38;5;241m0\u001b[39m])\n\u001b[0;32m      7\u001b[0m \u001b[38;5;28;01mfor\u001b[39;00m symbol \u001b[38;5;129;01min\u001b[39;00m line:\n",
            "\u001b[1;31mIndexError\u001b[0m: string index out of range"
          ]
        }
      ],
      "source": [
        "def brackets(line):\n",
        "    opening_counter = 0\n",
        "    closing_counter = 0\n",
        "    cond1 = closing_counter == opening_counter\n",
        "    cond2 = line[0] == '('\n",
        "    print(line[0])\n",
        "    for symbol in line:\n",
        "        if symbol == '(': opening_counter += 1\n",
        "        elif symbol == ')': closing_counter += 1\n",
        "        else: pass\n",
        "    if cond1 and cond2: return True\n",
        "    else: return False\n",
        "print(brackets(\"(()())\"))\n",
        "print(brackets(\"\"))\n",
        "print(brackets(\"(()()))\"))"
      ]
    },
    {
      "cell_type": "code",
      "execution_count": null,
      "metadata": {
        "id": "QmVCH8cZga3H"
      },
      "outputs": [],
      "source": [
        "from collections import deque\n",
        "\n",
        "def brackets(line):\n",
        "    # Напишите тело функции\n",
        "    stack = deque()\n",
        "    for i in line:\n",
        "        if i == '(':\n",
        "            stack.append(i)\n",
        "        elif i == ')':\n",
        "            if len(stack) == 0:\n",
        "                return False\n",
        "            stack.pop()\n",
        "    if len(stack) == 0:\n",
        "        return True\n",
        "    return False\n"
      ]
    },
    {
      "cell_type": "code",
      "execution_count": null,
      "metadata": {
        "id": "Y2icG_Sbga3H",
        "outputId": "3df2b635-d8de-44cf-cfd5-cff6072da098"
      },
      "outputs": [
        {
          "name": "stdout",
          "output_type": "stream",
          "text": [
            "500\n",
            "478\n",
            "548\n",
            "Counter({'Cola': 121, 'Beer': 116, 'Bread': 72, 'Chips': 39, 'Chocolate': 33, 'Yoghurt': 30, 'Soap': 28, 'Milk': 22, 'Meat': 15, 'Ketchup': 14, 'Cheese': 10})\n",
            "Counter({'Bread': 73, 'Meat': 60, 'Beer': 60, 'Cola': 55, 'Milk': 46, 'Chocolate': 39, 'Yoghurt': 33, 'Cheese': 30, 'Ketchup': 30, 'Chips': 28, 'Soap': 24})\n",
            "Counter({'Bread': 95, 'Beer': 81, 'Chips': 61, 'Cola': 60, 'Meat': 46, 'Milk': 43, 'Cheese': 39, 'Chocolate': 35, 'Ketchup': 33, 'Soap': 28, 'Yoghurt': 27})\n",
            "Counter({'Beer': 257, 'Bread': 240, 'Cola': 236, 'Chips': 128, 'Meat': 121, 'Milk': 111, 'Chocolate': 107, 'Yoghurt': 90, 'Soap': 80, 'Cheese': 79, 'Ketchup': 77})\n"
          ]
        }
      ],
      "source": [
        "\n",
        "from itertools import chain\n",
        "north = [['Milk', 'Milk', 'Beer'], ['Chocolate', 'Bread', 'Chips'], ['Cola', 'Cola', 'Yoghurt', 'Soap', 'Beer', 'Chips', 'Milk'], ['Soap', 'Soap', 'Cola', 'Cola', 'Chips'], ['Milk', 'Beer', 'Meat', 'Ketchup', 'Cola', 'Cola', 'Chips', 'Chips', 'Cola', 'Cola'], ['Beer', 'Bread', 'Bread', 'Beer', 'Beer', 'Beer', 'Bread', 'Cheese'], ['Yoghurt', 'Beer', 'Chips', 'Milk', 'Soap', 'Cola', 'Cola', 'Cola', 'Beer', 'Cola', 'Cola', 'Cola', 'Beer', 'Ketchup', 'Beer', 'Beer', 'Beer', 'Soap'], ['Milk', 'Cola', 'Cola', 'Beer', 'Beer', 'Bread', 'Bread', 'Soap', 'Cola', 'Cola', 'Beer', 'Meat', 'Bread', 'Chips'], ['Beer', 'Beer', 'Beer', 'Chips', 'Milk', 'Cola', 'Chocolate', 'Beer', 'Chocolate', 'Beer', 'Beer', 'Cola', 'Meat', 'Yoghurt', 'Beer'], ['Bread'], ['Chocolate', 'Beer', 'Meat', 'Yoghurt'], ['Cola', 'Beer', 'Beer', 'Beer', 'Chocolate', 'Beer', 'Soap', 'Beer', 'Chips', 'Soap', 'Chocolate', 'Bread', 'Chips', 'Cola', 'Bread', 'Beer', 'Cola', 'Bread'], ['Chips', 'Cola', 'Beer', 'Chips', 'Cola', 'Cola', 'Beer', 'Soap', 'Yoghurt', 'Yoghurt', 'Cola', 'Bread', 'Beer', 'Chocolate', 'Chips', 'Bread', 'Beer', 'Bread'], ['Cola', 'Chocolate'], ['Chocolate', 'Cola', 'Meat', 'Cola', 'Ketchup', 'Cola', 'Chocolate', 'Bread', 'Chocolate', 'Chocolate', 'Meat'], ['Bread', 'Milk', 'Chips', 'Ketchup', 'Cola', 'Cola', 'Cola', 'Beer', 'Beer', 'Soap', 'Beer', 'Cola'], ['Yoghurt', 'Milk', 'Soap', 'Bread', 'Cola', 'Cola', 'Milk', 'Bread', 'Chips', 'Cheese', 'Milk', 'Yoghurt', 'Bread', 'Yoghurt'], ['Cola', 'Ketchup'], ['Cola', 'Yoghurt', 'Bread', 'Cola', 'Cola', 'Chips', 'Yoghurt', 'Milk', 'Beer', 'Chips', 'Bread', 'Beer', 'Beer', 'Cola', 'Bread', 'Beer', 'Beer', 'Cheese'], ['Beer', 'Cheese', 'Ketchup', 'Beer'], ['Beer', 'Beer', 'Beer'], ['Soap', 'Beer', 'Beer', 'Chocolate', 'Cola', 'Chocolate', 'Bread', 'Beer', 'Milk', 'Bread', 'Beer', 'Chocolate', 'Bread', 'Cola', 'Cola', 'Cheese', 'Beer', 'Cola', 'Soap', 'Yoghurt'], ['Beer', 'Chocolate'], ['Cola', 'Beer'], ['Yoghurt', 'Beer', 'Yoghurt', 'Yoghurt', 'Chips', 'Meat', 'Beer', 'Chocolate', 'Cola', 'Cola', 'Chips', 'Bread'], ['Cola', 'Cola', 'Cola', 'Cola', 'Cola', 'Bread', 'Chips', 'Soap', 'Cola', 'Chocolate', 'Beer', 'Beer'], ['Beer', 'Cola', 'Cola', 'Bread', 'Soap', 'Beer', 'Meat', 'Beer', 'Beer', 'Beer', 'Cola', 'Chips', 'Beer', 'Cola', 'Cola', 'Bread', 'Cheese', 'Beer'], ['Cola', 'Cola', 'Ketchup', 'Beer', 'Yoghurt', 'Bread'], ['Chips', 'Yoghurt', 'Cola', 'Cola', 'Cola', 'Chocolate', 'Chips', 'Bread', 'Chocolate', 'Yoghurt', 'Chocolate', 'Milk', 'Bread', 'Bread', 'Soap', 'Milk', 'Soap', 'Cola', 'Bread', 'Beer'], ['Beer', 'Beer', 'Ketchup', 'Cola', 'Beer', 'Bread', 'Beer', 'Cola', 'Beer', 'Chocolate'], ['Beer', 'Chocolate', 'Cola', 'Beer', 'Yoghurt', 'Milk', 'Bread', 'Cheese', 'Yoghurt', 'Beer', 'Cola', 'Yoghurt', 'Cola', 'Soap', 'Beer', 'Bread', 'Meat', 'Bread', 'Cola'], ['Beer', 'Cola', 'Chips', 'Cola'], ['Cola', 'Cola', 'Beer', 'Cheese'], ['Bread', 'Soap', 'Ketchup', 'Chocolate', 'Beer', 'Cola', 'Chocolate', 'Cola', 'Cola', 'Yoghurt', 'Beer', 'Bread', 'Cola', 'Ketchup', 'Beer'], ['Bread'], ['Bread', 'Beer', 'Yoghurt', 'Yoghurt', 'Bread', 'Milk', 'Soap', 'Meat', 'Bread', 'Beer', 'Cola', 'Milk', 'Milk', 'Bread', 'Beer', 'Cola', 'Ketchup', 'Cola'], ['Bread', 'Beer', 'Bread', 'Yoghurt', 'Beer', 'Bread', 'Cola', 'Cola', 'Cola', 'Beer', 'Bread', 'Milk', 'Chips', 'Cola', 'Beer', 'Bread', 'Soap', 'Bread', 'Yoghurt', 'Bread'], ['Yoghurt', 'Beer', 'Cola', 'Beer', 'Beer', 'Beer'], ['Chips', 'Chocolate', 'Soap', 'Chocolate', 'Cola', 'Bread', 'Beer', 'Cola', 'Beer', 'Ketchup', 'Chocolate', 'Ketchup', 'Ketchup', 'Cheese', 'Chips', 'Beer', 'Chips', 'Chocolate'], ['Bread', 'Cola', 'Cola', 'Beer', 'Bread', 'Bread', 'Beer', 'Chocolate', 'Bread', 'Cola', 'Milk', 'Chips', 'Meat', 'Beer', 'Beer', 'Soap', 'Bread'], ['Beer', 'Beer', 'Bread', 'Chips', 'Beer', 'Bread', 'Bread', 'Chips', 'Beer'], ['Yoghurt', 'Bread', 'Cola', 'Bread', 'Cola', 'Bread', 'Meat', 'Cola', 'Bread', 'Beer', 'Soap', 'Chips'], ['Bread', 'Beer'], ['Milk', 'Beer', 'Meat', 'Cola', 'Beer', 'Cola', 'Cola'], ['Beer', 'Chips', 'Yoghurt', 'Beer', 'Cola', 'Beer', 'Cola', 'Cola', 'Soap', 'Cola'], ['Bread', 'Cola', 'Cola', 'Meat'], ['Cola', 'Chocolate', 'Meat', 'Beer', 'Cola', 'Bread', 'Chips', 'Beer', 'Chips', 'Chips', 'Cola'], ['Bread', 'Cola', 'Cola', 'Cola', 'Beer', 'Cola', 'Yoghurt', 'Beer', 'Chips', 'Cola', 'Chocolate', 'Chips', 'Cola', 'Cola', 'Cola', 'Cola', 'Bread', 'Cola'], ['Cola', 'Soap', 'Cola'], ['Soap', 'Chips', 'Cola', 'Beer', 'Bread', 'Soap', 'Cheese', 'Bread', 'Beer', 'Chocolate']]\n",
        "south = [['Cola', 'Meat', 'Cheese', 'Yoghurt', 'Beer', 'Milk', 'Milk', 'Meat', 'Cola', 'Cola', 'Cheese', 'Beer', 'Yoghurt', 'Beer', 'Bread', 'Bread', 'Milk', 'Cheese', 'Chocolate'], ['Soap', 'Milk', 'Cola'], ['Milk', 'Bread', 'Yoghurt', 'Meat', 'Meat'], ['Bread', 'Milk', 'Beer'], ['Beer'], ['Chocolate', 'Meat', 'Chocolate', 'Cola', 'Cola', 'Cola', 'Cola', 'Yoghurt', 'Bread', 'Meat', 'Soap', 'Soap', 'Milk', 'Milk', 'Cola'], ['Beer', 'Beer', 'Meat', 'Chips', 'Bread', 'Bread', 'Bread', 'Bread', 'Milk', 'Cola', 'Chocolate', 'Bread', 'Beer', 'Chips', 'Bread', 'Bread', 'Yoghurt'], ['Chips', 'Milk', 'Soap'], ['Meat', 'Beer', 'Milk', 'Chocolate', 'Bread', 'Yoghurt'], ['Chips', 'Meat', 'Chocolate', 'Bread', 'Cola', 'Cola', 'Chocolate', 'Meat', 'Yoghurt', 'Milk'], ['Bread', 'Soap', 'Bread', 'Meat', 'Beer', 'Yoghurt', 'Milk', 'Cola', 'Bread', 'Ketchup'], ['Meat', 'Milk'], ['Meat', 'Beer', 'Yoghurt'], ['Cola', 'Bread', 'Cola', 'Chocolate', 'Chips', 'Meat', 'Cheese'], ['Milk', 'Milk', 'Cheese', 'Meat'], ['Chips', 'Yoghurt', 'Cheese', 'Soap', 'Ketchup', 'Cheese', 'Soap', 'Beer', 'Ketchup', 'Ketchup', 'Milk', 'Bread', 'Bread', 'Beer'], ['Meat'], ['Ketchup', 'Bread', 'Beer', 'Milk', 'Bread', 'Meat', 'Ketchup', 'Cheese'], ['Meat', 'Chips', 'Bread', 'Meat', 'Milk', 'Soap', 'Chocolate', 'Meat', 'Chocolate', 'Chocolate', 'Bread', 'Cheese', 'Soap', 'Cola', 'Yoghurt'], ['Cheese', 'Milk', 'Bread', 'Milk', 'Chips', 'Chips', 'Meat', 'Beer', 'Chocolate', 'Chocolate'], ['Ketchup', 'Beer', 'Cheese', 'Cola'], ['Chocolate', 'Cheese', 'Bread'], ['Milk', 'Yoghurt', 'Ketchup', 'Beer', 'Meat', 'Chips', 'Yoghurt', 'Meat', 'Bread', 'Chips'], ['Yoghurt', 'Milk', 'Ketchup', 'Yoghurt', 'Beer', 'Cheese', 'Bread', 'Bread', 'Ketchup', 'Bread', 'Bread', 'Yoghurt', 'Meat'], ['Soap', 'Meat', 'Bread', 'Beer', 'Milk'], ['Beer', 'Cola', 'Beer', 'Meat', 'Meat', 'Cheese', 'Meat', 'Chocolate', 'Bread', 'Ketchup', 'Milk', 'Soap'], ['Cheese', 'Chocolate', 'Milk', 'Chocolate', 'Cola', 'Bread', 'Chips', 'Cheese', 'Soap', 'Ketchup', 'Cheese', 'Chips', 'Cheese', 'Cola', 'Chocolate', 'Beer'], ['Bread', 'Bread', 'Cola', 'Ketchup', 'Cola', 'Bread', 'Meat', 'Yoghurt', 'Milk', 'Beer', 'Beer', 'Cheese', 'Meat', 'Bread', 'Cheese', 'Meat', 'Chocolate'], ['Chocolate', 'Soap', 'Chips', 'Beer', 'Bread', 'Yoghurt', 'Chips', 'Chocolate', 'Beer', 'Cheese', 'Cola', 'Milk', 'Chips', 'Milk', 'Ketchup', 'Cola', 'Meat', 'Beer', 'Cheese', 'Yoghurt'], ['Soap'], ['Meat', 'Beer', 'Milk', 'Bread', 'Beer', 'Cheese', 'Chocolate', 'Beer', 'Beer', 'Milk', 'Beer', 'Bread', 'Meat', 'Beer', 'Chocolate', 'Beer', 'Soap', 'Chips', 'Cola'], ['Cola', 'Beer', 'Meat', 'Chips', 'Soap', 'Cola', 'Bread', 'Cola', 'Bread', 'Chips', 'Ketchup', 'Ketchup', 'Beer', 'Ketchup', 'Cola', 'Milk', 'Cheese'], ['Cheese', 'Milk', 'Chips', 'Bread', 'Yoghurt', 'Soap', 'Beer', 'Chips', 'Ketchup', 'Chips', 'Beer', 'Yoghurt', 'Cola', 'Cheese', 'Chocolate', 'Beer'], ['Meat', 'Bread', 'Meat', 'Bread'], ['Cola', 'Beer', 'Yoghurt'], ['Beer', 'Bread', 'Beer', 'Meat', 'Bread', 'Milk', 'Soap', 'Milk', 'Chocolate', 'Meat', 'Meat', 'Meat', 'Chips', 'Chocolate', 'Meat'], ['Beer', 'Cola', 'Chocolate', 'Bread', 'Cheese', 'Cheese'], ['Milk', 'Chips', 'Cola', 'Milk', 'Bread', 'Bread', 'Beer', 'Milk', 'Cola', 'Chocolate', 'Chocolate', 'Meat', 'Cola', 'Cola', 'Beer', 'Cola', 'Chocolate', 'Bread', 'Bread', 'Cola'], ['Chocolate', 'Chocolate', 'Beer', 'Beer', 'Bread', 'Yoghurt', 'Meat', 'Cola', 'Yoghurt'], ['Ketchup', 'Cola', 'Ketchup', 'Yoghurt', 'Chips', 'Soap', 'Soap', 'Chocolate', 'Chocolate', 'Bread', 'Beer', 'Meat'], ['Bread', 'Meat', 'Soap', 'Cola', 'Bread', 'Cola', 'Yoghurt', 'Meat', 'Bread', 'Cola', 'Cola', 'Ketchup', 'Beer', 'Bread', 'Milk', 'Yoghurt', 'Meat'], ['Chocolate', 'Yoghurt', 'Bread'], ['Meat', 'Bread', 'Bread', 'Bread'], ['Beer', 'Milk', 'Cola', 'Ketchup', 'Cola', 'Cheese', 'Meat', 'Chocolate'], ['Soap', 'Beer', 'Chocolate', 'Chocolate', 'Cola', 'Cola', 'Yoghurt', 'Ketchup', 'Milk'], ['Meat', 'Yoghurt', 'Bread', 'Ketchup', 'Ketchup', 'Milk', 'Meat'], ['Ketchup', 'Soap', 'Chips', 'Ketchup', 'Bread', 'Chocolate', 'Milk', 'Bread', 'Bread', 'Ketchup', 'Cola', 'Meat', 'Milk', 'Bread', 'Cola'], ['Meat', 'Beer', 'Yoghurt', 'Chips', 'Beer', 'Meat', 'Cola', 'Beer', 'Meat', 'Ketchup', 'Milk', 'Cola', 'Yoghurt', 'Beer', 'Meat', 'Bread', 'Bread'], ['Meat', 'Soap', 'Cheese', 'Ketchup', 'Cola', 'Cola', 'Bread', 'Chips', 'Meat', 'Cola', 'Bread', 'Beer', 'Beer', 'Beer'], ['Meat', 'Yoghurt', 'Bread', 'Milk', 'Beer', 'Beer']]\n",
        "center = [['Meat', 'Beer', 'Soap', 'Beer', 'Cheese', 'Cola', 'Milk', 'Soap', 'Cola', 'Meat', 'Bread', 'Chocolate', 'Chips'], ['Soap', 'Beer', 'Chips', 'Bread', 'Beer', 'Beer', 'Beer', 'Cheese', 'Cheese', 'Beer', 'Chips', 'Chocolate', 'Chips', 'Cheese', 'Bread', 'Cola', 'Cola', 'Beer'], ['Cola', 'Soap', 'Bread', 'Milk', 'Beer', 'Meat', 'Bread', 'Bread'], ['Ketchup', 'Beer', 'Ketchup', 'Chocolate', 'Milk', 'Milk', 'Bread', 'Beer'], ['Beer', 'Beer', 'Meat', 'Ketchup', 'Soap', 'Bread', 'Cola', 'Beer'], ['Meat', 'Bread', 'Milk', 'Cheese', 'Soap', 'Beer', 'Milk', 'Cheese', 'Cola', 'Beer', 'Chips', 'Bread', 'Ketchup', 'Chocolate', 'Bread', 'Milk'], ['Yoghurt'], ['Beer', 'Milk', 'Chips', 'Soap', 'Chips', 'Milk', 'Beer', 'Chips', 'Bread', 'Meat', 'Milk'], ['Yoghurt', 'Beer', 'Cola', 'Cola', 'Beer', 'Soap', 'Cheese', 'Soap', 'Bread', 'Cola', 'Yoghurt', 'Ketchup', 'Beer', 'Milk'], ['Milk', 'Cola', 'Bread', 'Cola', 'Bread', 'Beer', 'Beer', 'Beer'], ['Yoghurt', 'Cola'], ['Bread', 'Yoghurt', 'Chips', 'Ketchup', 'Meat', 'Bread', 'Beer', 'Yoghurt', 'Cola', 'Cola'], ['Chips', 'Chocolate', 'Chips', 'Meat', 'Bread', 'Cheese', 'Bread', 'Yoghurt'], ['Ketchup', 'Soap', 'Chocolate', 'Bread'], ['Chips', 'Beer', 'Chips', 'Cola', 'Cheese', 'Soap', 'Ketchup', 'Meat', 'Cola', 'Chips', 'Beer', 'Chocolate', 'Beer', 'Milk', 'Bread', 'Ketchup', 'Chips', 'Cheese', 'Ketchup'], ['Beer', 'Milk', 'Soap', 'Chips', 'Soap', 'Bread', 'Bread', 'Milk', 'Beer'], ['Cola', 'Chips', 'Meat', 'Cola', 'Beer', 'Chocolate', 'Bread', 'Bread', 'Chips', 'Soap', 'Chocolate', 'Chips', 'Beer'], ['Meat', 'Cola', 'Chips', 'Bread', 'Chips', 'Chocolate', 'Bread', 'Meat', 'Bread', 'Yoghurt', 'Cheese', 'Bread', 'Chips', 'Cola'], ['Chips', 'Cheese', 'Bread', 'Beer', 'Bread', 'Chips', 'Chocolate', 'Bread', 'Cola', 'Cola', 'Chocolate', 'Chocolate', 'Bread', 'Meat', 'Chips'], ['Bread', 'Milk', 'Bread', 'Cheese', 'Bread', 'Cheese', 'Ketchup', 'Beer', 'Cheese', 'Cola', 'Milk', 'Milk', 'Bread', 'Beer', 'Bread', 'Chips'], ['Yoghurt'], ['Bread', 'Bread', 'Chips', 'Cheese', 'Bread', 'Beer', 'Cola', 'Ketchup', 'Bread', 'Chips', 'Chocolate', 'Meat', 'Milk', 'Beer', 'Milk', 'Cheese', 'Bread', 'Meat', 'Bread', 'Cola'], ['Bread', 'Meat', 'Meat', 'Milk', 'Chips', 'Soap', 'Yoghurt', 'Chips', 'Beer', 'Yoghurt'], ['Bread', 'Soap', 'Bread', 'Cola', 'Bread'], ['Cola', 'Bread', 'Meat', 'Cola', 'Meat', 'Chocolate', 'Chips', 'Meat', 'Chips'], ['Chips', 'Cheese', 'Cheese', 'Meat'], ['Chips', 'Meat', 'Soap', 'Cheese', 'Bread', 'Cola', 'Bread', 'Beer', 'Meat', 'Cola', 'Bread', 'Cola', 'Ketchup', 'Bread'], ['Chips', 'Cheese', 'Milk', 'Meat', 'Milk', 'Beer', 'Chocolate', 'Ketchup', 'Cola', 'Cheese', 'Beer'], ['Beer', 'Ketchup', 'Yoghurt', 'Ketchup', 'Chocolate', 'Bread', 'Beer', 'Ketchup', 'Chocolate', 'Cola', 'Chocolate', 'Ketchup', 'Cola', 'Meat', 'Chips', 'Soap', 'Meat'], ['Meat', 'Milk'], ['Cola', 'Beer', 'Yoghurt', 'Beer', 'Bread', 'Cola'], ['Chips', 'Meat', 'Cheese', 'Ketchup', 'Chips', 'Bread', 'Bread', 'Chips', 'Chips', 'Bread', 'Milk', 'Ketchup', 'Cola', 'Cola', 'Beer'], ['Beer', 'Bread', 'Cheese', 'Bread', 'Cola', 'Cheese', 'Cheese', 'Beer', 'Milk', 'Bread', 'Chocolate', 'Cheese', 'Beer', 'Bread', 'Beer', 'Cola', 'Yoghurt', 'Beer', 'Beer', 'Chips'], ['Bread', 'Chips', 'Bread', 'Cola', 'Chips', 'Chocolate', 'Cheese', 'Beer', 'Chips', 'Milk', 'Milk', 'Beer', 'Cola', 'Meat', 'Cola', 'Bread', 'Cola', 'Chocolate', 'Chocolate', 'Cola'], ['Soap', 'Yoghurt', 'Chips', 'Beer', 'Chips', 'Milk', 'Cheese', 'Meat', 'Beer', 'Bread', 'Ketchup', 'Bread', 'Bread', 'Cheese', 'Milk', 'Beer', 'Beer', 'Soap', 'Bread'], ['Cola', 'Bread', 'Cheese', 'Ketchup', 'Beer', 'Chips', 'Meat', 'Chocolate', 'Chips', 'Cola', 'Beer', 'Beer', 'Cola'], ['Ketchup', 'Beer', 'Chocolate', 'Bread', 'Yoghurt', 'Beer', 'Cheese'], ['Bread', 'Chocolate', 'Bread', 'Milk'], ['Meat', 'Yoghurt', 'Bread', 'Yoghurt', 'Cola', 'Ketchup'], ['Ketchup', 'Bread', 'Bread', 'Chocolate', 'Chocolate', 'Chocolate', 'Bread', 'Bread', 'Beer', 'Chocolate', 'Bread', 'Milk'], ['Bread', 'Cheese', 'Soap', 'Soap', 'Chips', 'Chips'], ['Ketchup', 'Chocolate', 'Chips', 'Milk', 'Soap', 'Soap', 'Ketchup', 'Bread', 'Ketchup', 'Cola', 'Cheese', 'Beer', 'Ketchup', 'Bread'], ['Bread', 'Milk', 'Beer', 'Yoghurt', 'Meat', 'Ketchup', 'Meat', 'Meat', 'Bread', 'Milk', 'Cheese', 'Beer', 'Yoghurt', 'Milk', 'Bread', 'Cola'], ['Chips', 'Cola', 'Milk', 'Chocolate', 'Beer', 'Beer', 'Chips', 'Bread', 'Beer', 'Beer', 'Bread', 'Beer', 'Ketchup', 'Milk', 'Yoghurt', 'Ketchup', 'Cola', 'Ketchup', 'Chips', 'Meat'], ['Beer', 'Bread', 'Soap', 'Cheese', 'Meat', 'Soap'], ['Beer', 'Meat', 'Beer', 'Yoghurt', 'Soap', 'Chips', 'Meat', 'Cheese', 'Milk', 'Bread', 'Meat', 'Beer', 'Milk'], ['Chips', 'Meat', 'Bread'], ['Chocolate', 'Soap', 'Bread', 'Chips', 'Chips', 'Yoghurt', 'Chips', 'Cola', 'Cola', 'Cola', 'Beer', 'Milk', 'Milk', 'Bread', 'Bread', 'Meat'], ['Meat', 'Chocolate', 'Chips', 'Chips', 'Yoghurt', 'Yoghurt', 'Beer', 'Cola', 'Cheese', 'Milk', 'Beer'], ['Meat', 'Chocolate', 'Yoghurt', 'Cola', 'Cheese', 'Meat', 'Bread', 'Beer', 'Meat', 'Beer', 'Yoghurt', 'Cola', 'Bread']]\n",
        "fixed_north =list(chain.from_iterable(north))\n",
        "fixed_south = list(chain.from_iterable(south))\n",
        "fixed_center = list(chain.from_iterable(center))\n",
        "print(len(fixed_north))\n",
        "print(len(fixed_south))\n",
        "print(len(fixed_center))\n",
        "\n",
        "n = Counter(fixed_north)\n",
        "s = Counter(fixed_south)\n",
        "c = Counter(fixed_center)\n",
        "\n",
        "print(n)\n",
        "print(s)\n",
        "print(c)\n",
        "\n",
        "nsc_counter = (n + s + c)\n",
        "print(nsc_counter)\n"
      ]
    },
    {
      "cell_type": "markdown",
      "metadata": {
        "id": "SZ0PjhIJga3H"
      },
      "source": [
        "Дан список кортежей ratings с рейтингами кафе. Кортеж состоит из названия и рейтинга кафе.\n",
        "\n",
        "Необходимо отсортировать кортеж по убыванию рейтинга. Если рейтинги совпадают, то отсортировать кафе дополнительно по названию в алфавитном порядке.\n",
        "\n",
        "Получите словарь cafes с упорядоченными ключами из отсортированного списка, где ключи — названия кафе, а значения — их рейтинг."
      ]
    },
    {
      "cell_type": "code",
      "execution_count": null,
      "metadata": {
        "id": "vzccaNdPga3I",
        "outputId": "c82cfcba-6f55-41ba-9abf-3635f06881e8"
      },
      "outputs": [
        {
          "name": "stdout",
          "output_type": "stream",
          "text": [
            "OrderedDict([('WokAndRice', 4.9), ('WokToWork', 4.9), ('General Foods', 4.8), ('New Age', 4.6), ('Belissimo', 4.5), ('CakeAndCoffee', 4.2), ('CakeOClock', 4.2), ('CakeTime', 4.1), ('Nice Cakes', 3.9), ('Old Gold', 3.3), ('Old Wine Cellar', 3.3), ('Old York', 3.3)])\n"
          ]
        }
      ],
      "source": [
        "from collections import OrderedDict\n",
        "\n",
        "ratings = [('Old York', 3.3), ('New Age', 4.6), ('Old Gold', 3.3), ('General Foods', 4.8),\n",
        "           ('Belissimo', 4.5), ('CakeAndCoffee', 4.2), ('CakeOClock', 4.2), ('CakeTime', 4.1),\n",
        "           ('WokToWork', 4.9), ('WokAndRice', 4.9), ('Old Wine Cellar', 3.3), ('Nice Cakes', 3.9)]\n",
        "\n",
        "# Convert list to dictionary\n",
        "ratings_dict = dict(ratings)\n",
        "\n",
        "# Sort the dictionary by value (descending) first, then by key\n",
        "cafes = OrderedDict(sorted(ratings_dict.items(), key=lambda x: (-x[1], x[0])))\n",
        "print(cafes)"
      ]
    },
    {
      "cell_type": "code",
      "execution_count": null,
      "metadata": {
        "id": "vHZ3OOdoga3I",
        "outputId": "e80ffff1-8891-4241-ca67-3a3e9c745fdb"
      },
      "outputs": [
        {
          "name": "stdout",
          "output_type": "stream",
          "text": [
            "defaultdict(<class 'collections.deque'>, {'office': deque([36871, 40690, 33850]), 'voltage': deque([41667, 35364])})\n"
          ]
        }
      ],
      "source": [
        "from collections import defaultdict, deque\n",
        "\n",
        "def task_manager(tasks):\n",
        "    task_dict = defaultdict(deque)\n",
        "\n",
        "    for task_id, server, high_priority in tasks:\n",
        "        if high_priority:\n",
        "            task_dict[server].appendleft(task_id)\n",
        "        else:\n",
        "            task_dict[server].append(task_id)\n",
        "\n",
        "    return task_dict\n",
        "\n",
        "tasks = [\n",
        "    (36871, 'office', False),\n",
        "    (40690, 'office', False),\n",
        "    (35364, 'voltage', False),\n",
        "    (41667, 'voltage', True),\n",
        "    (33850, 'office', False)\n",
        "]\n",
        "\n",
        "print(task_manager(tasks))"
      ]
    },
    {
      "cell_type": "code",
      "source": [
        "import numpy as np"
      ],
      "metadata": {
        "id": "SAgKFGaEhc4y"
      },
      "execution_count": null,
      "outputs": []
    },
    {
      "cell_type": "markdown",
      "source": [
        "### Типы данных\n",
        "В numpy есть тип данных с корнем int. Например: int8, int16, int32 в зависимости от количества байтов памяти, необходимых ке выделению для хранения переменной. Ниже пример такого преобразования"
      ],
      "metadata": {
        "id": "KdxSlD0DhibK"
      }
    },
    {
      "cell_type": "code",
      "source": [
        "import numpy as np\n",
        "a = np.int8(25)\n",
        "print(a)\n",
        "print(type(a))\n"
      ],
      "metadata": {
        "colab": {
          "base_uri": "https://localhost:8080/"
        },
        "id": "OHdgbWFdixdC",
        "outputId": "34357f0b-73ad-41dc-801d-166d50011e95"
      },
      "execution_count": null,
      "outputs": [
        {
          "output_type": "stream",
          "name": "stdout",
          "text": [
            "25\n",
            "<class 'numpy.int8'>\n"
          ]
        }
      ]
    },
    {
      "cell_type": "markdown",
      "source": [
        "Чтобы узнать границы int мжно воспользоваться функцией np.iinfo()"
      ],
      "metadata": {
        "id": "9r4zlJWUjBSa"
      }
    },
    {
      "cell_type": "code",
      "source": [
        "np.iinfo(np.int8)\n",
        "np.iinfo(a)\n",
        "print(np.iinfo(np.int64))"
      ],
      "metadata": {
        "colab": {
          "base_uri": "https://localhost:8080/"
        },
        "id": "O9-kP2RbjNRG",
        "outputId": "e765a7ed-69d5-4fc4-ba2d-9713e081b538"
      },
      "execution_count": null,
      "outputs": [
        {
          "output_type": "stream",
          "name": "stdout",
          "text": [
            "Machine parameters for int64\n",
            "---------------------------------------------------------------\n",
            "min = -9223372036854775808\n",
            "max = 9223372036854775807\n",
            "---------------------------------------------------------------\n",
            "\n"
          ]
        }
      ]
    },
    {
      "cell_type": "markdown",
      "source": [
        "В Numpy есть также беззнаковые целочисленные типа (uint) - они могут быть только положительные, поэтому занимают в 2 раза больше памяти. uint доступны также с выделением памяти в 8, 16, 32 и 64 бита"
      ],
      "metadata": {
        "id": "vIlhUWQkjmKo"
      }
    },
    {
      "cell_type": "code",
      "source": [
        "b = np.uint8(124)\n",
        "a = np.int8(124)\n",
        "print(a, b)\n",
        "print(type(a), type(b))\n",
        "print(np.iinfo(a), np.iinfo(b))"
      ],
      "metadata": {
        "colab": {
          "base_uri": "https://localhost:8080/"
        },
        "id": "Mj-yxxiVj2OE",
        "outputId": "51fba8e0-0e08-4270-f3c1-3fe45d6fef2c"
      },
      "execution_count": null,
      "outputs": [
        {
          "output_type": "stream",
          "name": "stdout",
          "text": [
            "124 124\n",
            "<class 'numpy.int8'> <class 'numpy.uint8'>\n",
            "Machine parameters for int8\n",
            "---------------------------------------------------------------\n",
            "min = -128\n",
            "max = 127\n",
            "---------------------------------------------------------------\n",
            " Machine parameters for uint8\n",
            "---------------------------------------------------------------\n",
            "min = 0\n",
            "max = 255\n",
            "---------------------------------------------------------------\n",
            "\n"
          ]
        }
      ]
    },
    {
      "cell_type": "markdown",
      "source": [
        "Также нужно помнить, что если сперва создать переменную с типом numpy, а потом перезаписать обычным типом int, перезапишется и тип. А вот арифметические операции сохраняют NumPy-тип данных:"
      ],
      "metadata": {
        "id": "SKd9OO7nlxps"
      }
    },
    {
      "cell_type": "code",
      "source": [
        "a = np.int32(1000)\n",
        "print(a)\n",
        "print(type(a))\n",
        "a = 2056\n",
        "print(a)\n",
        "print(type(a))"
      ],
      "metadata": {
        "id": "h8mNqcqIl7C2"
      },
      "execution_count": null,
      "outputs": []
    },
    {
      "cell_type": "code",
      "source": [
        "a = np.int32(1000)\n",
        "b = 100\n",
        "c = a + b\n",
        "print(type(c))"
      ],
      "metadata": {
        "colab": {
          "base_uri": "https://localhost:8080/"
        },
        "id": "BI0BDoYrmJww",
        "outputId": "922612de-da36-49aa-d1f3-31963b0a032f"
      },
      "execution_count": null,
      "outputs": [
        {
          "output_type": "stream",
          "name": "stdout",
          "text": [
            "<class 'numpy.int64'>\n"
          ]
        }
      ]
    },
    {
      "cell_type": "markdown",
      "source": [
        "Следует понимать, что произойдёт, если выделенной памяти для хранения переменной окажется недостаточно."
      ],
      "metadata": {
        "id": "uLEXuAEKmgjj"
      }
    },
    {
      "cell_type": "code",
      "source": [
        "a = np.int8(260)\n",
        "print(a)"
      ],
      "metadata": {
        "colab": {
          "base_uri": "https://localhost:8080/"
        },
        "id": "cKghvKrUmho7",
        "outputId": "26b3d610-d1b4-4bf5-ed64-10d3de0e1baf"
      },
      "execution_count": null,
      "outputs": [
        {
          "output_type": "stream",
          "name": "stdout",
          "text": [
            "4\n"
          ]
        },
        {
          "output_type": "stream",
          "name": "stderr",
          "text": [
            "<ipython-input-14-61d899e0c03f>:1: DeprecationWarning: NumPy will stop allowing conversion of out-of-bound Python integers to integer arrays.  The conversion of 260 to int8 will fail in the future.\n",
            "For the old behavior, usually:\n",
            "    np.array(value).astype(dtype)\n",
            "will give the desired result (the cast overflows).\n",
            "  a = np.int8(260)\n"
          ]
        }
      ]
    },
    {
      "cell_type": "markdown",
      "source": [
        "Например, выполним сложение двух очень больших чисел типа int32 (максимум для этого типа — 2147483647):"
      ],
      "metadata": {
        "id": "tVAP6zTsmmFq"
      }
    },
    {
      "cell_type": "code",
      "source": [
        "a = np.int32(2147483610)\n",
        "b = np.int32(2147483605)\n",
        "print(a, b)\n",
        "print(a + b)"
      ],
      "metadata": {
        "colab": {
          "base_uri": "https://localhost:8080/"
        },
        "id": "YdwmK-cNmoxN",
        "outputId": "fd849594-ce08-4fae-d124-01e8d21aa63b"
      },
      "execution_count": null,
      "outputs": [
        {
          "output_type": "stream",
          "name": "stdout",
          "text": [
            "2147483610 2147483605\n",
            "-81\n"
          ]
        },
        {
          "output_type": "stream",
          "name": "stderr",
          "text": [
            "<ipython-input-15-9b460481045e>:4: RuntimeWarning: overflow encountered in scalar add\n",
            "  print(a + b)\n"
          ]
        }
      ]
    },
    {
      "cell_type": "markdown",
      "source": [
        "Значение было посчитано, но при этом оно явно отличается от той суммы, которую мы хотели получить.\n",
        "\n",
        "Чтобы избежать этой ошибки, вначале следовало преобразовать переменные к большему типу:"
      ],
      "metadata": {
        "id": "QEO7AzMQmxcv"
      }
    },
    {
      "cell_type": "code",
      "source": [
        "print(np.int64(a) + np.int64(b))"
      ],
      "metadata": {
        "colab": {
          "base_uri": "https://localhost:8080/"
        },
        "id": "HYts5DmMm1hA",
        "outputId": "75cde462-ba12-45ff-93ab-e5d023a00852"
      },
      "execution_count": null,
      "outputs": [
        {
          "output_type": "stream",
          "name": "stdout",
          "text": [
            "4294967215\n"
          ]
        }
      ]
    },
    {
      "cell_type": "markdown",
      "source": [
        "#### Float в numpy\n",
        "Доступны следующие типы данных float: float16, float32, float64 (применяется по умолчанию, если объём памяти не задан дополнительно), float128."
      ],
      "metadata": {
        "id": "nHElfmPEpUE_"
      }
    },
    {
      "cell_type": "code",
      "source": [
        "print(np.finfo(np.float16))\n",
        "np.finfo(np.float128)"
      ],
      "metadata": {
        "colab": {
          "base_uri": "https://localhost:8080/"
        },
        "id": "Gj4zNxrBp9IN",
        "outputId": "cf4f8be1-de14-481d-86e4-1f7778e8b602"
      },
      "execution_count": null,
      "outputs": [
        {
          "output_type": "stream",
          "name": "stdout",
          "text": [
            "Machine parameters for float16\n",
            "---------------------------------------------------------------\n",
            "precision =   3   resolution = 1.00040e-03\n",
            "machep =    -10   eps =        9.76562e-04\n",
            "negep =     -11   epsneg =     4.88281e-04\n",
            "minexp =    -14   tiny =       6.10352e-05\n",
            "maxexp =     16   max =        6.55040e+04\n",
            "nexp =        5   min =        -max\n",
            "smallest_normal = 6.10352e-05   smallest_subnormal = 5.96046e-08\n",
            "---------------------------------------------------------------\n",
            "\n"
          ]
        },
        {
          "output_type": "execute_result",
          "data": {
            "text/plain": [
              "finfo(resolution=1e-18, min=-1.189731495357231765e+4932, max=1.189731495357231765e+4932, dtype=float128)"
            ]
          },
          "metadata": {},
          "execution_count": 19
        }
      ]
    },
    {
      "cell_type": "code",
      "source": [
        "print(np.float16(4.12))\n",
        "print(np.float16(4.13))\n",
        "print(np.float16(4.123))\n",
        "print(np.float16(4.124))\n",
        "print(np.float16(4.125))\n",
        "# количество знаков после запятой зависит от precision, который можно посмотреть выше\n"
      ],
      "metadata": {
        "id": "bfBHVBYPq2rc"
      },
      "execution_count": null,
      "outputs": []
    },
    {
      "cell_type": "markdown",
      "source": [
        "#### другие типа данных numpy"
      ],
      "metadata": {
        "id": "3vZMZxxWrPN0"
      }
    },
    {
      "cell_type": "code",
      "source": [
        "print(np.sctypeDict)\n",
        "print(len(np.sctypeDict))"
      ],
      "metadata": {
        "colab": {
          "base_uri": "https://localhost:8080/"
        },
        "id": "m_MuNjdLrT5v",
        "outputId": "277a023a-a468-4d09-f35f-d08ec5ec60a9"
      },
      "execution_count": null,
      "outputs": [
        {
          "output_type": "stream",
          "name": "stdout",
          "text": [
            "{'?': <class 'numpy.bool_'>, 0: <class 'numpy.bool_'>, 'byte': <class 'numpy.int8'>, 'b': <class 'numpy.int8'>, 1: <class 'numpy.int8'>, 'ubyte': <class 'numpy.uint8'>, 'B': <class 'numpy.uint8'>, 2: <class 'numpy.uint8'>, 'short': <class 'numpy.int16'>, 'h': <class 'numpy.int16'>, 3: <class 'numpy.int16'>, 'ushort': <class 'numpy.uint16'>, 'H': <class 'numpy.uint16'>, 4: <class 'numpy.uint16'>, 'i': <class 'numpy.int32'>, 5: <class 'numpy.int32'>, 'uint': <class 'numpy.uint64'>, 'I': <class 'numpy.uint32'>, 6: <class 'numpy.uint32'>, 'intp': <class 'numpy.int64'>, 'p': <class 'numpy.int64'>, 7: <class 'numpy.int64'>, 'uintp': <class 'numpy.uint64'>, 'P': <class 'numpy.uint64'>, 8: <class 'numpy.uint64'>, 'long': <class 'numpy.int64'>, 'l': <class 'numpy.int64'>, 'ulong': <class 'numpy.uint64'>, 'L': <class 'numpy.uint64'>, 'longlong': <class 'numpy.longlong'>, 'q': <class 'numpy.longlong'>, 9: <class 'numpy.longlong'>, 'ulonglong': <class 'numpy.ulonglong'>, 'Q': <class 'numpy.ulonglong'>, 10: <class 'numpy.ulonglong'>, 'half': <class 'numpy.float16'>, 'e': <class 'numpy.float16'>, 23: <class 'numpy.float16'>, 'f': <class 'numpy.float32'>, 11: <class 'numpy.float32'>, 'double': <class 'numpy.float64'>, 'd': <class 'numpy.float64'>, 12: <class 'numpy.float64'>, 'longdouble': <class 'numpy.longdouble'>, 'g': <class 'numpy.longdouble'>, 13: <class 'numpy.longdouble'>, 'cfloat': <class 'numpy.complex128'>, 'F': <class 'numpy.complex64'>, 14: <class 'numpy.complex64'>, 'cdouble': <class 'numpy.complex128'>, 'D': <class 'numpy.complex128'>, 15: <class 'numpy.complex128'>, 'clongdouble': <class 'numpy.clongdouble'>, 'G': <class 'numpy.clongdouble'>, 16: <class 'numpy.clongdouble'>, 'O': <class 'numpy.object_'>, 17: <class 'numpy.object_'>, 'S': <class 'numpy.bytes_'>, 18: <class 'numpy.bytes_'>, 'unicode': <class 'numpy.str_'>, 'U': <class 'numpy.str_'>, 19: <class 'numpy.str_'>, 'void': <class 'numpy.void'>, 'V': <class 'numpy.void'>, 20: <class 'numpy.void'>, 'M': <class 'numpy.datetime64'>, 21: <class 'numpy.datetime64'>, 'm': <class 'numpy.timedelta64'>, 22: <class 'numpy.timedelta64'>, 'b1': <class 'numpy.bool_'>, 'bool8': <class 'numpy.bool_'>, 'i8': <class 'numpy.int64'>, 'int64': <class 'numpy.int64'>, 'u8': <class 'numpy.uint64'>, 'uint64': <class 'numpy.uint64'>, 'f2': <class 'numpy.float16'>, 'float16': <class 'numpy.float16'>, 'f4': <class 'numpy.float32'>, 'float32': <class 'numpy.float32'>, 'f8': <class 'numpy.float64'>, 'float64': <class 'numpy.float64'>, 'f16': <class 'numpy.longdouble'>, 'float128': <class 'numpy.longdouble'>, 'c8': <class 'numpy.complex64'>, 'complex64': <class 'numpy.complex64'>, 'c16': <class 'numpy.complex128'>, 'complex128': <class 'numpy.complex128'>, 'c32': <class 'numpy.clongdouble'>, 'complex256': <class 'numpy.clongdouble'>, 'object0': <class 'numpy.object_'>, 'bytes0': <class 'numpy.bytes_'>, 'str0': <class 'numpy.str_'>, 'void0': <class 'numpy.void'>, 'M8': <class 'numpy.datetime64'>, 'datetime64': <class 'numpy.datetime64'>, 'm8': <class 'numpy.timedelta64'>, 'timedelta64': <class 'numpy.timedelta64'>, 'int32': <class 'numpy.int32'>, 'i4': <class 'numpy.int32'>, 'uint32': <class 'numpy.uint32'>, 'u4': <class 'numpy.uint32'>, 'int16': <class 'numpy.int16'>, 'i2': <class 'numpy.int16'>, 'uint16': <class 'numpy.uint16'>, 'u2': <class 'numpy.uint16'>, 'int8': <class 'numpy.int8'>, 'i1': <class 'numpy.int8'>, 'uint8': <class 'numpy.uint8'>, 'u1': <class 'numpy.uint8'>, 'complex_': <class 'numpy.complex128'>, 'single': <class 'numpy.float32'>, 'csingle': <class 'numpy.complex64'>, 'singlecomplex': <class 'numpy.complex64'>, 'float_': <class 'numpy.float64'>, 'intc': <class 'numpy.int32'>, 'uintc': <class 'numpy.uint32'>, 'int_': <class 'numpy.int64'>, 'longfloat': <class 'numpy.longdouble'>, 'clongfloat': <class 'numpy.clongdouble'>, 'longcomplex': <class 'numpy.clongdouble'>, 'bool_': <class 'numpy.bool_'>, 'bytes_': <class 'numpy.bytes_'>, 'string_': <class 'numpy.bytes_'>, 'str_': <class 'numpy.str_'>, 'unicode_': <class 'numpy.str_'>, 'object_': <class 'numpy.object_'>, 'int': <class 'numpy.int64'>, 'float': <class 'numpy.float64'>, 'complex': <class 'numpy.complex128'>, 'bool': <class 'numpy.bool_'>, 'object': <class 'numpy.object_'>, 'str': <class 'numpy.str_'>, 'bytes': <class 'numpy.bytes_'>, 'a': <class 'numpy.bytes_'>, 'int0': <class 'numpy.int64'>, 'uint0': <class 'numpy.uint64'>}\n",
            "136\n"
          ]
        }
      ]
    },
    {
      "cell_type": "markdown",
      "source": [
        "Много из этих видов дублируют один и тот же. Например, для типов bool и str ксть форматы: np.bool или np.str, а также np.bool_ или np.str_ в зависимости от версии numpy"
      ],
      "metadata": {
        "id": "JsdACGvcsARs"
      }
    },
    {
      "cell_type": "code",
      "source": [
        "print(np.uint8(-456))"
      ],
      "metadata": {
        "colab": {
          "base_uri": "https://localhost:8080/"
        },
        "id": "RFH1dNphtQ7l",
        "outputId": "382467b7-5e8c-4d17-81ce-11b0f54c3a5c"
      },
      "execution_count": null,
      "outputs": [
        {
          "output_type": "stream",
          "name": "stdout",
          "text": [
            "56\n"
          ]
        },
        {
          "output_type": "stream",
          "name": "stderr",
          "text": [
            "<ipython-input-29-efdbace7166c>:1: DeprecationWarning: NumPy will stop allowing conversion of out-of-bound Python integers to integer arrays.  The conversion of -456 to uint8 will fail in the future.\n",
            "For the old behavior, usually:\n",
            "    np.array(value).astype(dtype)\n",
            "will give the desired result (the cast overflows).\n",
            "  print(np.uint8(-456))\n"
          ]
        }
      ]
    },
    {
      "cell_type": "markdown",
      "source": [
        "### Массивы в python\n",
        "Все массивы:\n",
        "\n",
        "\n",
        "\n",
        "1.   Все элементы хранятся в указанном порядке\n",
        "2.   Каждый элемент массива можно получить по индексу за одинаковое время\n",
        "3. Все элементы приведены к одному и тому же типу\n",
        "4. Максимальное кол-во элементов и объём выделенной памяти выделенны заранее\n",
        "\n",
        "Создать массива из списка\n",
        "\n"
      ],
      "metadata": {
        "id": "f4PwnQLFKUx4"
      }
    },
    {
      "cell_type": "code",
      "source": [
        "import numpy as np\n",
        "arr = np.array([1,5,2,9,10])\n",
        "print(arr)\n",
        "print(type(arr))"
      ],
      "metadata": {
        "colab": {
          "base_uri": "https://localhost:8080/"
        },
        "id": "SKrWsTZPLnPN",
        "outputId": "0db4220a-af9b-4e6d-c1e9-bd30275acf97"
      },
      "execution_count": null,
      "outputs": [
        {
          "output_type": "stream",
          "name": "stdout",
          "text": [
            "[ 1  5  2  9 10]\n",
            "<class 'numpy.ndarray'>\n"
          ]
        }
      ]
    },
    {
      "cell_type": "code",
      "source": [
        "#создаём двухмерный массив\n",
        "nd_arr = np.array([\n",
        "               [12, 45, 78],\n",
        "               [34, 56, 13],\n",
        "               [12, 98, 76]\n",
        "               ])\n",
        "print(nd_arr)"
      ],
      "metadata": {
        "colab": {
          "base_uri": "https://localhost:8080/"
        },
        "id": "XjSqK9sFLxVm",
        "outputId": "cc7781e5-27dd-4a73-da74-772bd92150bb"
      },
      "execution_count": null,
      "outputs": [
        {
          "output_type": "stream",
          "name": "stdout",
          "text": [
            "[[12 45 78]\n",
            " [34 56 13]\n",
            " [12 98 76]]\n"
          ]
        }
      ]
    },
    {
      "cell_type": "code",
      "source": [
        "# Узнать какой тип данных хранится в массиве можно с помошью dtype\n",
        "nd_arr.dtype"
      ],
      "metadata": {
        "colab": {
          "base_uri": "https://localhost:8080/"
        },
        "id": "woSmLxpqL_rf",
        "outputId": "3ddf2d3a-a35c-4196-cf2d-957c11e6f27c"
      },
      "execution_count": null,
      "outputs": [
        {
          "output_type": "execute_result",
          "data": {
            "text/plain": [
              "dtype('int64')"
            ]
          },
          "metadata": {},
          "execution_count": 3
        }
      ]
    },
    {
      "cell_type": "code",
      "source": [
        "#Задать тип данных в массиве можно при создании\n",
        "arr = np.array([1,5,2,9,10], dtype=np.int8)\n",
        "print(arr)\n",
        "#Теперь, если добавить в arr число больше 127 или меньше -128,\n",
        "#оно потеряет исходное значение, как и при преобразовании к меньшему типу:\n",
        "arr[2] = 2000\n",
        "arr\n"
      ],
      "metadata": {
        "colab": {
          "base_uri": "https://localhost:8080/"
        },
        "id": "2jIbdFDDMWey",
        "outputId": "e9b9e697-a72d-4138-fc88-d73f5abf09fb"
      },
      "execution_count": null,
      "outputs": [
        {
          "output_type": "stream",
          "name": "stdout",
          "text": [
            "[ 1  5  2  9 10]\n"
          ]
        },
        {
          "output_type": "stream",
          "name": "stderr",
          "text": [
            "<ipython-input-5-5b0571f88469>:6: DeprecationWarning: NumPy will stop allowing conversion of out-of-bound Python integers to integer arrays.  The conversion of 2000 to int8 will fail in the future.\n",
            "For the old behavior, usually:\n",
            "    np.array(value).astype(dtype)\n",
            "will give the desired result (the cast overflows).\n",
            "  arr[2] = 2000\n"
          ]
        },
        {
          "output_type": "execute_result",
          "data": {
            "text/plain": [
              "array([  1,   5, -48,   9,  10], dtype=int8)"
            ]
          },
          "metadata": {},
          "execution_count": 5
        }
      ]
    },
    {
      "cell_type": "code",
      "source": [
        "#Если добавить float в массив int, пропадёт десятичная часть:\n",
        "arr[2] = 125.5\n",
        "arr"
      ],
      "metadata": {
        "colab": {
          "base_uri": "https://localhost:8080/"
        },
        "id": "oV5avjJmM4cm",
        "outputId": "3ba554d0-24eb-4a09-977e-bfe4fb76094d"
      },
      "execution_count": null,
      "outputs": [
        {
          "output_type": "execute_result",
          "data": {
            "text/plain": [
              "array([  1,   5, 125,   9,  10], dtype=int8)"
            ]
          },
          "metadata": {},
          "execution_count": 7
        }
      ]
    },
    {
      "cell_type": "code",
      "source": [
        "arr[2] = '12'\n",
        "arr"
      ],
      "metadata": {
        "colab": {
          "base_uri": "https://localhost:8080/"
        },
        "id": "1VEZ9s5jNFft",
        "outputId": "f9348c35-f178-4cfd-fb09-e47466fc58c1"
      },
      "execution_count": null,
      "outputs": [
        {
          "output_type": "execute_result",
          "data": {
            "text/plain": [
              "array([ 1,  5, 12,  9, 10], dtype=int8)"
            ]
          },
          "metadata": {},
          "execution_count": 8
        }
      ]
    },
    {
      "cell_type": "code",
      "source": [
        "arr[2] = 'test'\n",
        "arr"
      ],
      "metadata": {
        "colab": {
          "base_uri": "https://localhost:8080/",
          "height": 158
        },
        "id": "ix6Y3A2TNIjz",
        "outputId": "e05d4cb3-72de-4e4b-e999-97b23e52886b"
      },
      "execution_count": null,
      "outputs": [
        {
          "output_type": "error",
          "ename": "ValueError",
          "evalue": "invalid literal for int() with base 10: 'test'",
          "traceback": [
            "\u001b[0;31m---------------------------------------------------------------------------\u001b[0m",
            "\u001b[0;31mValueError\u001b[0m                                Traceback (most recent call last)",
            "\u001b[0;32m<ipython-input-9-9d0b34dabf50>\u001b[0m in \u001b[0;36m<cell line: 1>\u001b[0;34m()\u001b[0m\n\u001b[0;32m----> 1\u001b[0;31m \u001b[0marr\u001b[0m\u001b[0;34m[\u001b[0m\u001b[0;36m2\u001b[0m\u001b[0;34m]\u001b[0m \u001b[0;34m=\u001b[0m \u001b[0;34m'test'\u001b[0m\u001b[0;34m\u001b[0m\u001b[0;34m\u001b[0m\u001b[0m\n\u001b[0m\u001b[1;32m      2\u001b[0m \u001b[0marr\u001b[0m\u001b[0;34m\u001b[0m\u001b[0;34m\u001b[0m\u001b[0m\n",
            "\u001b[0;31mValueError\u001b[0m: invalid literal for int() with base 10: 'test'"
          ]
        }
      ]
    },
    {
      "cell_type": "markdown",
      "source": [
        "Поменять тип данных во всём массиве можно с помощью тех же функций, которыми мы пользовались для преобразования типов отдельных переменных в предыдущем юните (например, np.int32 или np.float128):"
      ],
      "metadata": {
        "id": "-0iKIpwZNdVE"
      }
    },
    {
      "cell_type": "code",
      "source": [
        "arr = np.float128(arr)\n",
        "arr"
      ],
      "metadata": {
        "colab": {
          "base_uri": "https://localhost:8080/"
        },
        "id": "_r5XzzdXNe4C",
        "outputId": "57433283-39af-4733-f45b-89b7c9c1ac6e"
      },
      "execution_count": null,
      "outputs": [
        {
          "output_type": "execute_result",
          "data": {
            "text/plain": [
              "array([ 1.,  5., 12.,  9., 10.], dtype=float128)"
            ]
          },
          "metadata": {},
          "execution_count": 10
        }
      ]
    },
    {
      "cell_type": "markdown",
      "source": [
        "При преобразовании типов данных в массиве не забывайте о том, что часть чисел может потерять смысл, если менять тип данных с более ёмкого на менее ёмкий:"
      ],
      "metadata": {
        "id": "OS6HbyoLPURB"
      }
    },
    {
      "cell_type": "code",
      "source": [
        "arr = np.array([12321, -1234, 3435, -214, 100], dtype=np.int32)\n",
        "print(arr)\n",
        "arr = np.uint8(arr)\n",
        "print(arr)"
      ],
      "metadata": {
        "colab": {
          "base_uri": "https://localhost:8080/"
        },
        "id": "OFHbVIqEPV34",
        "outputId": "83e5efbd-b05a-4d83-c7b4-749519b90c78"
      },
      "execution_count": null,
      "outputs": [
        {
          "output_type": "stream",
          "name": "stdout",
          "text": [
            "[12321 -1234  3435  -214   100]\n",
            "[ 33  46 107  42 100]\n"
          ]
        }
      ]
    },
    {
      "cell_type": "code",
      "source": [
        "arr = np.array([345234, 876362.12, 0, -1000, 99999999],dtype = np.float128)\n",
        "print(arr)"
      ],
      "metadata": {
        "colab": {
          "base_uri": "https://localhost:8080/"
        },
        "id": "YkQqUvdIQyqc",
        "outputId": "16c7f07f-f8c0-4dbc-b595-08a755289387"
      },
      "execution_count": null,
      "outputs": [
        {
          "output_type": "stream",
          "name": "stdout",
          "text": [
            "[ 3.4523400e+05  8.7636212e+05  0.0000000e+00 -1.0000000e+03\n",
            "  9.9999999e+07]\n"
          ]
        }
      ]
    },
    {
      "cell_type": "code",
      "source": [
        "arr = np.array([1,5,2,9,10], dtype=np.int8)\n",
        "nd_arr = np.array([\n",
        "               [12, 45, 78],\n",
        "               [34, 56, 13],\n",
        "               [12, 98, 76]\n",
        "               ], dtype=np.int16)\n",
        "# узнать размерность массива можно с помощью .ndim\n",
        "print(arr.ndim)\n",
        "print(nd_arr.ndim)\n",
        "#общее количество элементов в массиве с помощью .size\n",
        "print(arr.size)\n",
        "print(nd_arr.size)\n",
        "#форма и структура массива - .shape\n",
        "print(arr.shape)\n",
        "print(nd_arr.shape)\n",
        "#Форма массива определяется от длины внешнего массива (3) к внутреннему (3).\n",
        "#вес массива можно узнать по .itemsize\n",
        "print(arr.itemsize)\n",
        "print(nd_arr.itemsize)"
      ],
      "metadata": {
        "colab": {
          "base_uri": "https://localhost:8080/"
        },
        "id": "5gJbQRBgRZaP",
        "outputId": "9f98e430-1750-413a-cec6-a03c6be42472"
      },
      "execution_count": null,
      "outputs": [
        {
          "output_type": "stream",
          "name": "stdout",
          "text": [
            "1\n",
            "2\n",
            "5\n",
            "9\n",
            "(5,)\n",
            "(3, 3)\n",
            "1\n",
            "2\n"
          ]
        }
      ]
    },
    {
      "cell_type": "markdown",
      "source": [
        "Если сперва нужно создать массив, а потом заполнить его, то можно сперва создать массив и заполнить его нулями, а потом изменить значения.\n",
        "\n",
        "Создать массив с нулями можно при помощи функции zeros(x)"
      ],
      "metadata": {
        "id": "1f2CjoULTXEm"
      }
    },
    {
      "cell_type": "code",
      "source": [
        "zeros_1d = np.zeros(5)\n",
        "zeros_1d"
      ],
      "metadata": {
        "colab": {
          "base_uri": "https://localhost:8080/"
        },
        "id": "xea5kPVtTswi",
        "outputId": "c5c3831e-83eb-493c-8958-d1ae03c69de6"
      },
      "execution_count": null,
      "outputs": [
        {
          "output_type": "execute_result",
          "data": {
            "text/plain": [
              "array([0., 0., 0., 0., 0.])"
            ]
          },
          "metadata": {},
          "execution_count": 20
        }
      ]
    },
    {
      "cell_type": "code",
      "source": [
        "zeros_3d = np.zeros((5,4,3), dtype=np.float32)\n",
        "print(zeros_3d.shape)"
      ],
      "metadata": {
        "colab": {
          "base_uri": "https://localhost:8080/"
        },
        "id": "vL4i5t2mTv2e",
        "outputId": "60808091-f736-45be-c128-a3ffacbee5e4"
      },
      "execution_count": null,
      "outputs": [
        {
          "output_type": "stream",
          "name": "stdout",
          "text": [
            "(5, 4, 3)\n"
          ]
        }
      ]
    },
    {
      "cell_type": "markdown",
      "source": [
        "Ещё одной удобной функцией для создания одномерных массивов является arange. Она аналогична встроенной функции range, но обладает рядом особенностей. Вот её сигнатура: arange([start,] stop, [step,], dtype=None).\n",
        "\n",
        "start (входит в диапазон возвращаемых значений) задаёт начальное число;\n",
        "\n",
        "stop (не входит в диапазон возвращаемых значений, как и при использовании range) задаёт правую границу диапазона;\n",
        "\n",
        "step задаёт шаг, с которым в массив добавляются новые значения."
      ],
      "metadata": {
        "id": "2_ambCIAT7yI"
      }
    },
    {
      "cell_type": "code",
      "source": [
        "np.arange(5)"
      ],
      "metadata": {
        "colab": {
          "base_uri": "https://localhost:8080/"
        },
        "id": "jnOnM9QwUHNm",
        "outputId": "3298a7d5-c962-4d05-9340-2c955f86a09f"
      },
      "execution_count": null,
      "outputs": [
        {
          "output_type": "execute_result",
          "data": {
            "text/plain": [
              "array([0, 1, 2, 3, 4])"
            ]
          },
          "metadata": {},
          "execution_count": 22
        }
      ]
    },
    {
      "cell_type": "code",
      "source": [
        "np.arange(2.5, 5)"
      ],
      "metadata": {
        "colab": {
          "base_uri": "https://localhost:8080/"
        },
        "id": "K38BvfsOUIRL",
        "outputId": "ee3176a9-d59a-47c6-e9df-3ef3981253df"
      },
      "execution_count": null,
      "outputs": [
        {
          "output_type": "execute_result",
          "data": {
            "text/plain": [
              "array([2.5, 3.5, 4.5])"
            ]
          },
          "metadata": {},
          "execution_count": 23
        }
      ]
    },
    {
      "cell_type": "code",
      "source": [
        "np.arange(2.5, 5, 0.5)"
      ],
      "metadata": {
        "colab": {
          "base_uri": "https://localhost:8080/"
        },
        "id": "QWxoAVJjUPJN",
        "outputId": "b02947b1-7bd3-4848-c7ac-6d4d89cd8330"
      },
      "execution_count": null,
      "outputs": [
        {
          "output_type": "execute_result",
          "data": {
            "text/plain": [
              "array([2.5, 3. , 3.5, 4. , 4.5])"
            ]
          },
          "metadata": {},
          "execution_count": 24
        }
      ]
    },
    {
      "cell_type": "code",
      "source": [
        "np.arange(2.5, 5, 0.5, dtype=np.float16)"
      ],
      "metadata": {
        "colab": {
          "base_uri": "https://localhost:8080/"
        },
        "id": "l3kRRUycURH6",
        "outputId": "34b7bcb7-3e7c-43c3-8e37-ad612de24291"
      },
      "execution_count": null,
      "outputs": [
        {
          "output_type": "execute_result",
          "data": {
            "text/plain": [
              "array([2.5, 3. , 3.5, 4. , 4.5], dtype=float16)"
            ]
          },
          "metadata": {},
          "execution_count": 25
        }
      ]
    },
    {
      "cell_type": "markdown",
      "source": [
        "### Linspace\n",
        "Операции с типом данных float по ряду причин могут выдавать непредсказуемые результаты. Поэтому есть инструмент np.linspace(start, stop, num=50, endpoint=True, retstep=False, dtype=None), позволяющий создавать массив чисел с заданным старотом, концом, шагом, типом.\n",
        "\n",
        "\n",
        "\n",
        "*   start и stop - обязательные параметры, задают начало и конец\n",
        "*   num - количество элементов, которые должны оказаться в массиве\n",
        "*   endpoint - включён или исключён конец  диапазаона (по умолчанию включён)\n",
        "*   retstep - позволяет указать, нужно ли возвращать использованный шаг между значениями, помимо самого массива (по умолчанию false)\n",
        "*   dtype - тип данных, елси не задан то определяется автоматически\n",
        "\n"
      ],
      "metadata": {
        "id": "srZRga_iUy2Y"
      }
    },
    {
      "cell_type": "code",
      "source": [
        "arr = np.linspace(1, 2, 10)\n",
        "print(arr)\n",
        "# тут 2 входит в массив, т.к. endpoint = True\n"
      ],
      "metadata": {
        "colab": {
          "base_uri": "https://localhost:8080/"
        },
        "id": "UKU9TnRmspHx",
        "outputId": "63bcb65c-b4ba-4f00-af07-9ba334141358"
      },
      "execution_count": null,
      "outputs": [
        {
          "output_type": "stream",
          "name": "stdout",
          "text": [
            "[1.         1.11111111 1.22222222 1.33333333 1.44444444 1.55555556\n",
            " 1.66666667 1.77777778 1.88888889 2.        ]\n"
          ]
        }
      ]
    },
    {
      "cell_type": "code",
      "source": [
        "arr = np.linspace(1, 2, 10, endpoint=False)\n",
        "print(arr)\n",
        "# тут 2 не входит, т.к. endpoint = False"
      ],
      "metadata": {
        "colab": {
          "base_uri": "https://localhost:8080/"
        },
        "id": "UFKI0O2ftLLw",
        "outputId": "00064374-f4b2-42b7-f4d9-885f271e66fc"
      },
      "execution_count": null,
      "outputs": [
        {
          "output_type": "stream",
          "name": "stdout",
          "text": [
            "[1.  1.1 1.2 1.3 1.4 1.5 1.6 1.7 1.8 1.9]\n"
          ]
        }
      ]
    },
    {
      "cell_type": "markdown",
      "source": [
        "Узнаем, какой шаг был использован для создания массива из десяти чисел между 1 и 2, где 2 включалось и не включалось:"
      ],
      "metadata": {
        "id": "FGrKOTVBta6b"
      }
    },
    {
      "cell_type": "code",
      "source": [
        "arr, step = np.linspace(1, 2, 10, endpoint=True, retstep=True)\n",
        "print(step)"
      ],
      "metadata": {
        "colab": {
          "base_uri": "https://localhost:8080/"
        },
        "id": "1u0BhHmNtbou",
        "outputId": "110a4364-ec83-4507-85fc-a7ef34b979b9"
      },
      "execution_count": null,
      "outputs": [
        {
          "output_type": "stream",
          "name": "stdout",
          "text": [
            "0.1111111111111111\n"
          ]
        }
      ]
    },
    {
      "cell_type": "code",
      "source": [
        "arr, step = np.linspace(1, 2, 10, endpoint=False, retstep=True)\n",
        "print(step)"
      ],
      "metadata": {
        "colab": {
          "base_uri": "https://localhost:8080/"
        },
        "id": "mQa7e0YCtgvk",
        "outputId": "29da447c-d574-4edf-bac9-861781e8d09b"
      },
      "execution_count": null,
      "outputs": [
        {
          "output_type": "stream",
          "name": "stdout",
          "text": [
            "0.1\n"
          ]
        }
      ]
    },
    {
      "cell_type": "code",
      "source": [
        "arr, step = np.linspace(-6,21,60, endpoint = False, retstep=True)\n",
        "print(step)\n",
        "print(arr)"
      ],
      "metadata": {
        "colab": {
          "base_uri": "https://localhost:8080/"
        },
        "id": "z70sTuu1tnfP",
        "outputId": "21f98f07-e672-4ec0-c3dd-f595c7ed1182"
      },
      "execution_count": null,
      "outputs": [
        {
          "output_type": "stream",
          "name": "stdout",
          "text": [
            "0.45\n",
            "[-6.   -5.55 -5.1  -4.65 -4.2  -3.75 -3.3  -2.85 -2.4  -1.95 -1.5  -1.05\n",
            " -0.6  -0.15  0.3   0.75  1.2   1.65  2.1   2.55  3.    3.45  3.9   4.35\n",
            "  4.8   5.25  5.7   6.15  6.6   7.05  7.5   7.95  8.4   8.85  9.3   9.75\n",
            " 10.2  10.65 11.1  11.55 12.   12.45 12.9  13.35 13.8  14.25 14.7  15.15\n",
            " 15.6  16.05 16.5  16.95 17.4  17.85 18.3  18.75 19.2  19.65 20.1  20.55]\n"
          ]
        }
      ]
    },
    {
      "cell_type": "markdown",
      "source": [
        "### Действия с массивами\n",
        "1. Изменение формы массива"
      ],
      "metadata": {
        "id": "R9KVGlCpwP4A"
      }
    },
    {
      "cell_type": "code",
      "source": [
        "import numpy as np\n",
        "arr = np.arange(8)\n",
        "arr"
      ],
      "metadata": {
        "colab": {
          "base_uri": "https://localhost:8080/"
        },
        "id": "UGhcEhXvwY33",
        "outputId": "1fd21db7-c4b3-43ce-9433-d90297ae6214"
      },
      "execution_count": null,
      "outputs": [
        {
          "output_type": "execute_result",
          "data": {
            "text/plain": [
              "array([0, 1, 2, 3, 4, 5, 6, 7])"
            ]
          },
          "metadata": {},
          "execution_count": 13
        }
      ]
    },
    {
      "cell_type": "code",
      "source": [
        "arr.shape = (2, 4)\n",
        "arr\n",
        "#Как и принято в NumPy, первое число задало число строк, а второе — число столбцов."
      ],
      "metadata": {
        "colab": {
          "base_uri": "https://localhost:8080/"
        },
        "id": "U8Qyt5SSwdwo",
        "outputId": "88c6e133-cad3-454d-e886-25b012e4aa54"
      },
      "execution_count": null,
      "outputs": [
        {
          "output_type": "execute_result",
          "data": {
            "text/plain": [
              "array([[0, 1, 2, 3],\n",
              "       [4, 5, 6, 7]])"
            ]
          },
          "metadata": {},
          "execution_count": 14
        }
      ]
    },
    {
      "cell_type": "markdown",
      "source": [
        "2. Создать новый массиов по аналогии со страрым"
      ],
      "metadata": {
        "id": "YatvHri2wq7C"
      }
    },
    {
      "cell_type": "code",
      "source": [
        "arr = np.arange(8)\n",
        "arr_new = arr.reshape((2, 4))\n",
        "arr_new"
      ],
      "metadata": {
        "colab": {
          "base_uri": "https://localhost:8080/"
        },
        "id": "UTYBess-wx_M",
        "outputId": "744d0860-f098-4e99-9003-724639b7a3dc"
      },
      "execution_count": null,
      "outputs": [
        {
          "output_type": "execute_result",
          "data": {
            "text/plain": [
              "array([[0, 1, 2, 3],\n",
              "       [4, 5, 6, 7]])"
            ]
          },
          "metadata": {},
          "execution_count": 15
        }
      ]
    },
    {
      "cell_type": "markdown",
      "source": [
        "У функции reshape есть дополнительный именованный аргумент order. Он задаёт принцип, по которому элементы заполняют массив новой формы. Если order='C' (по умолчанию), массив заполняется по строкам, как в примере выше. Если order='F', массив заполняется числами по столбцам:"
      ],
      "metadata": {
        "id": "Dkk8JMWBw64G"
      }
    },
    {
      "cell_type": "code",
      "source": [
        "arr = np.arange(8)\n",
        "arr_new = arr.reshape((2, 4), order='F')\n",
        "arr_new"
      ],
      "metadata": {
        "colab": {
          "base_uri": "https://localhost:8080/"
        },
        "id": "T9jO3Mp6w5k7",
        "outputId": "ee74a0f1-9eaf-423c-b8cd-22b942ae9f30"
      },
      "execution_count": null,
      "outputs": [
        {
          "output_type": "execute_result",
          "data": {
            "text/plain": [
              "array([[0, 2, 4, 6],\n",
              "       [1, 3, 5, 7]])"
            ]
          },
          "metadata": {},
          "execution_count": 16
        }
      ]
    },
    {
      "cell_type": "markdown",
      "source": [
        "3. Транспонирование"
      ],
      "metadata": {
        "id": "Cax5k1NMxA90"
      }
    },
    {
      "cell_type": "code",
      "source": [
        "arr = np.arange(8)\n",
        "arr.shape = (2, 4)\n",
        "arr"
      ],
      "metadata": {
        "colab": {
          "base_uri": "https://localhost:8080/"
        },
        "id": "87gFFfT0xF8L",
        "outputId": "85a94259-923c-4457-966e-f468b6862bf8"
      },
      "execution_count": null,
      "outputs": [
        {
          "output_type": "execute_result",
          "data": {
            "text/plain": [
              "array([[0, 1, 2, 3],\n",
              "       [4, 5, 6, 7]])"
            ]
          },
          "metadata": {},
          "execution_count": 17
        }
      ]
    },
    {
      "cell_type": "code",
      "source": [
        "arr_trans = arr.transpose()\n",
        "arr_trans"
      ],
      "metadata": {
        "colab": {
          "base_uri": "https://localhost:8080/"
        },
        "id": "XaTVEGl7xJLn",
        "outputId": "8dee3ee0-6c55-44b0-88a1-b33e8723596b"
      },
      "execution_count": null,
      "outputs": [
        {
          "output_type": "execute_result",
          "data": {
            "text/plain": [
              "array([[0, 4],\n",
              "       [1, 5],\n",
              "       [2, 6],\n",
              "       [3, 7]])"
            ]
          },
          "metadata": {},
          "execution_count": 18
        }
      ]
    },
    {
      "cell_type": "markdown",
      "source": [
        "#### Индексы и срезы в массивах\n"
      ],
      "metadata": {
        "id": "oaLhMV30yonu"
      }
    },
    {
      "cell_type": "code",
      "source": [
        "arr = np.linspace(1, 2, 6)\n",
        "print(arr[2])\n",
        "print(arr[2:4])"
      ],
      "metadata": {
        "colab": {
          "base_uri": "https://localhost:8080/"
        },
        "id": "M39s22g_yurB",
        "outputId": "113fc892-27d5-41f7-977f-10b38ab60144"
      },
      "execution_count": null,
      "outputs": [
        {
          "output_type": "stream",
          "name": "stdout",
          "text": [
            "1.4\n",
            "[1.4 1.6]\n"
          ]
        }
      ]
    },
    {
      "cell_type": "code",
      "source": [
        "print(arr[::-1])"
      ],
      "metadata": {
        "colab": {
          "base_uri": "https://localhost:8080/"
        },
        "id": "NCsaESZqy2_W",
        "outputId": "6eff8492-473c-489e-9e59-f7bd001d953a"
      },
      "execution_count": null,
      "outputs": [
        {
          "output_type": "stream",
          "name": "stdout",
          "text": [
            "[2.  1.8 1.6 1.4 1.2 1. ]\n"
          ]
        }
      ]
    },
    {
      "cell_type": "code",
      "source": [
        "# создаём двухмерный массив\n",
        "nd_array =  np.linspace(0, 6, 12, endpoint=False).reshape(3,4)\n",
        "print(nd_array)\n",
        "nd_array[1][2]"
      ],
      "metadata": {
        "colab": {
          "base_uri": "https://localhost:8080/"
        },
        "id": "xVakT03Vy7QE",
        "outputId": "67a5424a-c2d7-47e5-d437-3b59be920882"
      },
      "execution_count": null,
      "outputs": [
        {
          "output_type": "stream",
          "name": "stdout",
          "text": [
            "[[0.  0.5 1.  1.5]\n",
            " [2.  2.5 3.  3.5]\n",
            " [4.  4.5 5.  5.5]]\n"
          ]
        },
        {
          "output_type": "execute_result",
          "data": {
            "text/plain": [
              "3.0"
            ]
          },
          "metadata": {},
          "execution_count": 26
        }
      ]
    },
    {
      "cell_type": "code",
      "source": [
        "# второй вариант сделать то же самое:\n",
        "nd_array[1, 2]"
      ],
      "metadata": {
        "colab": {
          "base_uri": "https://localhost:8080/"
        },
        "id": "MLGBBT6jzRfu",
        "outputId": "cd3b14da-3222-47f5-ac8a-42a7af8d5550"
      },
      "execution_count": null,
      "outputs": [
        {
          "output_type": "execute_result",
          "data": {
            "text/plain": [
              "3.0"
            ]
          },
          "metadata": {},
          "execution_count": 25
        }
      ]
    },
    {
      "cell_type": "code",
      "source": [
        "#Получаем результат для первых двух строк массива [0] из столбца 3 [1]\n",
        "nd_array[:2, 2]"
      ],
      "metadata": {
        "colab": {
          "base_uri": "https://localhost:8080/"
        },
        "id": "gLT9p2Qzzebg",
        "outputId": "bcaf54b9-e89c-45b1-8b70-3c34b2fda612"
      },
      "execution_count": null,
      "outputs": [
        {
          "output_type": "execute_result",
          "data": {
            "text/plain": [
              "array([1., 3.])"
            ]
          },
          "metadata": {},
          "execution_count": 27
        }
      ]
    },
    {
      "cell_type": "code",
      "source": [
        "nd_array[1:, 2:4]"
      ],
      "metadata": {
        "colab": {
          "base_uri": "https://localhost:8080/"
        },
        "id": "1r_bzLotz-eV",
        "outputId": "484b62f7-3740-4de9-c12c-3aca7718e425"
      },
      "execution_count": null,
      "outputs": [
        {
          "output_type": "execute_result",
          "data": {
            "text/plain": [
              "array([[3. , 3.5],\n",
              "       [5. , 5.5]])"
            ]
          },
          "metadata": {},
          "execution_count": 28
        }
      ]
    },
    {
      "cell_type": "code",
      "source": [
        "nd_array[:, 2:4]"
      ],
      "metadata": {
        "colab": {
          "base_uri": "https://localhost:8080/"
        },
        "id": "5ztolbpK00md",
        "outputId": "4f01354d-3e63-4760-a880-e3b579babd8c"
      },
      "execution_count": null,
      "outputs": [
        {
          "output_type": "execute_result",
          "data": {
            "text/plain": [
              "array([[1. , 1.5],\n",
              "       [3. , 3.5],\n",
              "       [5. , 5.5]])"
            ]
          },
          "metadata": {},
          "execution_count": 29
        }
      ]
    },
    {
      "cell_type": "code",
      "source": [
        "nd_array[:2]"
      ],
      "metadata": {
        "colab": {
          "base_uri": "https://localhost:8080/"
        },
        "id": "RqsfN-Qd0_Yi",
        "outputId": "d7664fdb-90cc-452e-ab1d-d98f3f9b1f94"
      },
      "execution_count": null,
      "outputs": [
        {
          "output_type": "execute_result",
          "data": {
            "text/plain": [
              "array([[0. , 0.5, 1. , 1.5],\n",
              "       [2. , 2.5, 3. , 3.5]])"
            ]
          },
          "metadata": {},
          "execution_count": 30
        }
      ]
    },
    {
      "cell_type": "code",
      "source": [
        "mystery = np.array([[-13586,  15203,  28445, -27117,  -1781, -17182, -18049],\n",
        "       [ 25936, -30968,  -1297,  -4593,   6451,  15790,   7181],\n",
        "       [ 13348,  28049,  28655,  -6012,  21762,  25397,   8225],\n",
        "       [ 13240,   7994,  32592,  20149,  13754,  11795,   -564],\n",
        "       [-21725,  -8681,  30305,  22260, -17918,  12578,  29943],\n",
        "       [-16841, -25392, -17278,  11740,   5916,    -47, -32037]],\n",
        "      dtype=np.int16)\n",
        "elem_5_3= mystery[4,2]\n",
        "last = mystery[-1, -1]\n",
        "line_4 = mystery[3]\n",
        "col_2 = mystery[:, -2]\n",
        "part = mystery[1:4, 2:5]\n",
        "prerev = mystery[:, -1]\n",
        "rev = prerev[::-1]\n",
        "trans = mystery.transpose()"
      ],
      "metadata": {
        "colab": {
          "base_uri": "https://localhost:8080/"
        },
        "id": "mDMXCBJb1HA1",
        "outputId": "a8101b95-cbc9-416b-81d2-b310715d67dd"
      },
      "execution_count": null,
      "outputs": [
        {
          "output_type": "stream",
          "name": "stdout",
          "text": [
            "[[-13586  25936  13348  13240 -21725 -16841]\n",
            " [ 15203 -30968  28049   7994  -8681 -25392]\n",
            " [ 28445  -1297  28655  32592  30305 -17278]\n",
            " [-27117  -4593  -6012  20149  22260  11740]\n",
            " [ -1781   6451  21762  13754 -17918   5916]\n",
            " [-17182  15790  25397  11795  12578    -47]\n",
            " [-18049   7181   8225   -564  29943 -32037]]\n"
          ]
        }
      ]
    },
    {
      "cell_type": "markdown",
      "source": [
        "###Сортировка одномерных массивов\n"
      ],
      "metadata": {
        "id": "9JGK5dEX7Max"
      }
    },
    {
      "cell_type": "code",
      "source": [
        "# через функцию np.sort(array) возвращает новый отсортированный массив:\n",
        "arr = np.array([23,12,45,12,23,4,15,3])\n",
        "arr_new = np.sort(arr)\n",
        "print(arr)\n",
        "print(arr_new)"
      ],
      "metadata": {
        "colab": {
          "base_uri": "https://localhost:8080/"
        },
        "id": "YfqBPkRi7SJ8",
        "outputId": "6812f30d-12de-4a4c-b646-3b90c6472b38"
      },
      "execution_count": null,
      "outputs": [
        {
          "output_type": "stream",
          "name": "stdout",
          "text": [
            "[23 12 45 12 23  4 15  3]\n",
            "[ 3  4 12 12 15 23 23 45]\n"
          ]
        }
      ]
    },
    {
      "cell_type": "code",
      "source": [
        "#Функция <массив>.sort() сортирует исходный массив и возвращает None:\n",
        "arr = np.array([23,12,45,12,23,4,15,3])\n",
        "print(arr.sort())\n",
        "print(arr)"
      ],
      "metadata": {
        "colab": {
          "base_uri": "https://localhost:8080/"
        },
        "id": "-awthZ_77erS",
        "outputId": "1807a156-c155-4b30-c9ab-59ffc82280b9"
      },
      "execution_count": null,
      "outputs": [
        {
          "output_type": "stream",
          "name": "stdout",
          "text": [
            "None\n",
            "[ 3  4 12 12 15 23 23 45]\n"
          ]
        }
      ]
    },
    {
      "cell_type": "code",
      "source": [
        "#Работа с пропущенными данными\n",
        "data = np.array([4, 9, -4, 3])\n",
        "roots = np.sqrt(data)\n",
        "roots"
      ],
      "metadata": {
        "colab": {
          "base_uri": "https://localhost:8080/"
        },
        "id": "HMFi_kr77ule",
        "outputId": "67389b6c-1ba6-415a-8211-31bdd5c26d59"
      },
      "execution_count": null,
      "outputs": [
        {
          "output_type": "stream",
          "name": "stderr",
          "text": [
            "<ipython-input-49-243304c910f7>:3: RuntimeWarning: invalid value encountered in sqrt\n",
            "  roots = np.sqrt(data)\n"
          ]
        },
        {
          "output_type": "execute_result",
          "data": {
            "text/plain": [
              "array([2.        , 3.        ,        nan, 1.73205081])"
            ]
          },
          "metadata": {},
          "execution_count": 49
        }
      ]
    },
    {
      "cell_type": "markdown",
      "source": [
        "NumPy выдал предупреждение о том, что в функцию sqrt попало некорректное значение. Это было число -4, а как вы помните, корень из отрицательного числа в действительных числах не берётся. Однако программа не сломалась окончательно, а продолжила работу. На том месте, где должен был оказаться корень из -4, теперь присутствует объект nan. Он расшифровывается как Not a number (не число). Этот объект аналогичен встроенному типу None, но имеет несколько отличий:\n",
        "\n",
        "1. None - отдельный объект типа NoneType; np.nan представитель класса float"
      ],
      "metadata": {
        "id": "5Cj51mD279Pq"
      }
    },
    {
      "cell_type": "code",
      "source": [
        "print(type(None))\n",
        "print(type(np.nan))"
      ],
      "metadata": {
        "colab": {
          "base_uri": "https://localhost:8080/"
        },
        "id": "U7udEKlO8My5",
        "outputId": "9f26a818-c3b6-4450-86df-45dff8233940"
      },
      "execution_count": null,
      "outputs": [
        {
          "output_type": "stream",
          "name": "stdout",
          "text": [
            "<class 'NoneType'>\n",
            "<class 'float'>\n"
          ]
        }
      ]
    },
    {
      "cell_type": "markdown",
      "source": [
        "2. None могут быть равны друг другу, а np.nan — нет:"
      ],
      "metadata": {
        "id": "lU1Nw7478Soi"
      }
    },
    {
      "cell_type": "code",
      "source": [
        "print(None == None)\n",
        "print(np.nan == np.nan)\n",
        "print(None is None)\n",
        "print(np.nan is np.nan)\n",
        "print(np.nan is None)"
      ],
      "metadata": {
        "colab": {
          "base_uri": "https://localhost:8080/"
        },
        "id": "0ODEhh5L8ZI4",
        "outputId": "18590187-954b-4333-a20c-c6f0fa931e80"
      },
      "execution_count": null,
      "outputs": [
        {
          "output_type": "stream",
          "name": "stdout",
          "text": [
            "True\n",
            "False\n",
            "True\n",
            "True\n",
            "False\n"
          ]
        }
      ]
    },
    {
      "cell_type": "markdown",
      "source": [
        "Из примера с корнями выше можно заранее узнать, есть ли в массиве данные типа nan\n"
      ],
      "metadata": {
        "id": "qJyOrOUk8pY8"
      }
    },
    {
      "cell_type": "code",
      "source": [
        "np.isnan(roots)"
      ],
      "metadata": {
        "colab": {
          "base_uri": "https://localhost:8080/"
        },
        "id": "Ug_PdAfu9XtL",
        "outputId": "329a2639-0441-4cb0-8baf-d46a6bd1f55b"
      },
      "execution_count": null,
      "outputs": [
        {
          "output_type": "execute_result",
          "data": {
            "text/plain": [
              "array([False, False,  True, False])"
            ]
          },
          "metadata": {},
          "execution_count": 54
        }
      ]
    },
    {
      "cell_type": "code",
      "source": [
        "roots[np.isnan(roots)]"
      ],
      "metadata": {
        "colab": {
          "base_uri": "https://localhost:8080/"
        },
        "id": "nLMlMQUJ9ekv",
        "outputId": "39a54313-34e9-4c6c-889b-0d63c4eb70bd"
      },
      "execution_count": null,
      "outputs": [
        {
          "output_type": "execute_result",
          "data": {
            "text/plain": [
              "array([nan])"
            ]
          },
          "metadata": {},
          "execution_count": 55
        }
      ]
    },
    {
      "cell_type": "code",
      "source": [
        "# присвоим пропущенным значениям nan значения 0\n",
        "roots[np.isnan(roots)] = 0\n",
        "roots"
      ],
      "metadata": {
        "colab": {
          "base_uri": "https://localhost:8080/"
        },
        "id": "yNEc_hDN9hOM",
        "outputId": "04be043f-e278-43be-c3af-60ea68a7be14"
      },
      "execution_count": null,
      "outputs": [
        {
          "output_type": "execute_result",
          "data": {
            "text/plain": [
              "array([2.        , 3.        , 0.        , 1.73205081])"
            ]
          },
          "metadata": {},
          "execution_count": 56
        }
      ]
    },
    {
      "cell_type": "code",
      "source": [
        "sum(roots)"
      ],
      "metadata": {
        "colab": {
          "base_uri": "https://localhost:8080/"
        },
        "id": "GxM0Znml9p_V",
        "outputId": "aa0ee511-8a8b-4821-ee48-8d0a9757d2b8"
      },
      "execution_count": null,
      "outputs": [
        {
          "output_type": "execute_result",
          "data": {
            "text/plain": [
              "6.732050807568877"
            ]
          },
          "metadata": {},
          "execution_count": 57
        }
      ]
    },
    {
      "cell_type": "code",
      "source": [
        "np.isnan(np.nan)"
      ],
      "metadata": {
        "colab": {
          "base_uri": "https://localhost:8080/"
        },
        "id": "UY0a6fbp9yr3",
        "outputId": "e3bb162b-09a8-4b28-8e5b-3b37656ae94c"
      },
      "execution_count": null,
      "outputs": [
        {
          "output_type": "execute_result",
          "data": {
            "text/plain": [
              "True"
            ]
          },
          "metadata": {},
          "execution_count": 58
        }
      ]
    },
    {
      "cell_type": "code",
      "source": [
        "mystery = np.array([ 12279., -26024.,  28745.,  np.nan,  31244.,  -2365.,  -6974.,\n",
        "        -9212., np.nan, -17722.,  16132.,  25933.,  np.nan, -16431.,\n",
        "        29810.], dtype=np.float32)\n",
        "nans_index = np.isnan(mystery)\n",
        "n_nan = len(mystery[np.isnan(mystery)])\n",
        "mystery_new = np.array([ 12279., -26024.,  28745.,  np.nan,  31244.,  -2365.,  -6974.,\n",
        "        -9212., np.nan, -17722.,  16132.,  25933.,  np.nan, -16431.,\n",
        "        29810.], dtype=np.float32)\n",
        "mystery_new[np.isnan(mystery_new)] = 0\n",
        "mystery_int = np.int32(mystery)\n",
        "array = np.sort(mystery)\n",
        "table = array.reshape((5,3),order='F')\n",
        "col = table[:, 1]"
      ],
      "metadata": {
        "id": "djNemR0M-FBy",
        "colab": {
          "base_uri": "https://localhost:8080/"
        },
        "outputId": "8ff7198b-189e-46d9-86f3-64a9f7f7104e"
      },
      "execution_count": null,
      "outputs": [
        {
          "output_type": "stream",
          "name": "stdout",
          "text": [
            "[ 12279. -26024.  28745.     nan  31244.  -2365.  -6974.  -9212.     nan\n",
            " -17722.  16132.  25933.     nan -16431.  29810.]\n",
            "[ 12279. -26024.  28745.      0.  31244.  -2365.  -6974.  -9212.      0.\n",
            " -17722.  16132.  25933.      0. -16431.  29810.]\n"
          ]
        },
        {
          "output_type": "stream",
          "name": "stderr",
          "text": [
            "<ipython-input-8-ece8d74b2e3d>:13: RuntimeWarning: invalid value encountered in cast\n",
            "  mystery_int = np.int32(mystery)\n"
          ]
        }
      ]
    },
    {
      "cell_type": "markdown",
      "source": [
        "#Операции с векторами\n",
        "В программировании вектором называют одномерный проиндексированный набор данных, другими словами — одномерный массив."
      ],
      "metadata": {
        "id": "7ESlwg_nXsDA"
      }
    },
    {
      "cell_type": "code",
      "source": [
        "vec1 = np.array([2, 4, 7, 2.5])\n",
        "vec2 = np.array([12, 6, 3.6, 13])\n",
        "print(vec1 + vec2)\n",
        "#при операции с векторами они должны сложиться\n",
        "#если у векторов одинаковая длина\n",
        "#иначе будет ошибка\n",
        "#при этом, вектора можно без ограничений умножать и возводить в степень\n",
        "vec = np.arange(5)\n",
        "print(vec * 10)\n",
        "print(vec ** 2)"
      ],
      "metadata": {
        "colab": {
          "base_uri": "https://localhost:8080/"
        },
        "id": "YeSCxM3WYn55",
        "outputId": "6e038b77-d6c1-4fe8-bb50-60da17b5e666"
      },
      "execution_count": null,
      "outputs": [
        {
          "output_type": "stream",
          "name": "stdout",
          "text": [
            "[14.  10.  10.6 15.5]\n",
            "[ 0 10 20 30 40]\n",
            "[ 0  1  4  9 16]\n"
          ]
        }
      ]
    },
    {
      "cell_type": "code",
      "source": [
        "list1 = [2, 4, 7, 2.5]\n",
        "list2 = [12, 6, 3.6, 13]\n",
        "list1 + list2\n",
        "#Как видим, в случае со списками - результат их сложения это просто 2 списка в одном\n",
        "#Сложения или других операций нету"
      ],
      "metadata": {
        "colab": {
          "base_uri": "https://localhost:8080/"
        },
        "id": "pVjqpEg8Yvfe",
        "outputId": "b961f3b3-e862-42b6-b9f7-3ea789228624"
      },
      "execution_count": null,
      "outputs": [
        {
          "output_type": "execute_result",
          "data": {
            "text/plain": [
              "[2, 4, 7, 2.5, 12, 6, 3.6, 13]"
            ]
          },
          "metadata": {},
          "execution_count": 10
        }
      ]
    },
    {
      "cell_type": "code",
      "source": [
        "#Сравнение векторов\n",
        "vec1 = np.array([2, 4, 7, 2.5])\n",
        "vec2 = np.array([12, 6, 3.6, 13])\n",
        "\n",
        "vec1 > vec2"
      ],
      "metadata": {
        "colab": {
          "base_uri": "https://localhost:8080/"
        },
        "id": "M4fyHJ6uZzeE",
        "outputId": "4ecc1792-259c-4506-82ed-80865f582fd0"
      },
      "execution_count": null,
      "outputs": [
        {
          "output_type": "execute_result",
          "data": {
            "text/plain": [
              "array([False, False,  True, False])"
            ]
          },
          "metadata": {},
          "execution_count": 12
        }
      ]
    },
    {
      "cell_type": "code",
      "source": [
        "vec = np.array([14,15,9,26,53,5,89])\n",
        "vec <= 26"
      ],
      "metadata": {
        "colab": {
          "base_uri": "https://localhost:8080/"
        },
        "id": "yMD33tGWZ5NV",
        "outputId": "30c3610b-de0d-4921-9830-121dec729445"
      },
      "execution_count": null,
      "outputs": [
        {
          "output_type": "execute_result",
          "data": {
            "text/plain": [
              "array([ True,  True,  True,  True, False,  True, False])"
            ]
          },
          "metadata": {},
          "execution_count": 13
        }
      ]
    },
    {
      "cell_type": "markdown",
      "source": [
        "![image.png](data:image/png;base64,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)"
      ],
      "metadata": {
        "id": "gg7aU96FanOB"
      }
    },
    {
      "cell_type": "code",
      "source": [
        "vec = np.array([3, 4])\n",
        "#посчитаем длинну этого вектора\n",
        "length = np.sqrt(np.sum(vec ** 2))\n",
        "print(length)\n"
      ],
      "metadata": {
        "colab": {
          "base_uri": "https://localhost:8080/"
        },
        "id": "7HcpeZg4aoBs",
        "outputId": "52ba9d29-ad97-487f-da55-f663e18981bf"
      },
      "execution_count": null,
      "outputs": [
        {
          "output_type": "stream",
          "name": "stdout",
          "text": [
            "5.0\n"
          ]
        }
      ]
    },
    {
      "cell_type": "markdown",
      "source": [
        "В Numpy также есть модуль linalg, позволяющий производить операции из линейной алгебры\n",
        "Например, для вычисления длинны вектора есть функция norm"
      ],
      "metadata": {
        "id": "M4KaD-wabE7U"
      }
    },
    {
      "cell_type": "code",
      "source": [
        "length = np.linalg.norm(vec)\n",
        "print(length)"
      ],
      "metadata": {
        "colab": {
          "base_uri": "https://localhost:8080/"
        },
        "id": "Ul2x1gHObZhg",
        "outputId": "cef8d61f-9158-4f5b-dd6b-767e96f31e4b"
      },
      "execution_count": null,
      "outputs": [
        {
          "output_type": "stream",
          "name": "stdout",
          "text": [
            "5.0\n"
          ]
        }
      ]
    },
    {
      "cell_type": "markdown",
      "source": [
        "![image.png](data:image/png;base64,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)"
      ],
      "metadata": {
        "id": "rShiSEywbhGF"
      }
    },
    {
      "cell_type": "code",
      "source": [
        "#Способ 1\n",
        "vec1 = np.array([0, 3, 5])\n",
        "vec2 = np.array([12, 4, 7])\n",
        "distance = np.sqrt(np.sum((vec1 - vec2) ** 2))\n",
        "distance"
      ],
      "metadata": {
        "colab": {
          "base_uri": "https://localhost:8080/"
        },
        "id": "BvsI7iEzbh6I",
        "outputId": "ad521ff4-0ae7-4922-f7af-d1620e7e92f5"
      },
      "execution_count": null,
      "outputs": [
        {
          "output_type": "execute_result",
          "data": {
            "text/plain": [
              "12.206555615733702"
            ]
          },
          "metadata": {},
          "execution_count": 16
        }
      ]
    },
    {
      "cell_type": "code",
      "source": [
        "#Способ 2\n",
        "vec1 = np.array([0, 3, 5])\n",
        "vec2 = np.array([12, 4, 7])\n",
        "distance = np.linalg.norm(vec1 - vec2)\n",
        "distance"
      ],
      "metadata": {
        "colab": {
          "base_uri": "https://localhost:8080/"
        },
        "id": "dOQ2UnkvbtLi",
        "outputId": "6031c424-3bbd-4cc1-b712-57cec0ee632d"
      },
      "execution_count": null,
      "outputs": [
        {
          "output_type": "execute_result",
          "data": {
            "text/plain": [
              "12.206555615733702"
            ]
          },
          "metadata": {},
          "execution_count": 17
        }
      ]
    },
    {
      "cell_type": "markdown",
      "source": [
        "![image.png](data:image/png;base64,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)"
      ],
      "metadata": {
        "id": "WIxJwbVOb90Y"
      }
    },
    {
      "cell_type": "code",
      "source": [
        "#Способ 1\n",
        "vec1 = np.arange(1, 6)\n",
        "vec2 = np.linspace(10, 20, 5)\n",
        "scalar_product = np.sum(vec1 * vec2)\n",
        "print(scalar_product)\n",
        "print(len(vec1))\n",
        "print(len(vec2))\n",
        "print(vec1)\n",
        "print(vec2)"
      ],
      "metadata": {
        "colab": {
          "base_uri": "https://localhost:8080/"
        },
        "id": "GjpPnudEb-xR",
        "outputId": "e43565f4-e298-4ac5-d3da-e1bac4a8c1c3"
      },
      "execution_count": null,
      "outputs": [
        {
          "output_type": "stream",
          "name": "stdout",
          "text": [
            "250.0\n",
            "5\n",
            "5\n",
            "[1 2 3 4 5]\n",
            "[10.  12.5 15.  17.5 20. ]\n"
          ]
        }
      ]
    },
    {
      "cell_type": "code",
      "source": [
        "#Способ 2\n",
        "scalar_product = np.dot(vec1, vec2)\n",
        "scalar_product"
      ],
      "metadata": {
        "colab": {
          "base_uri": "https://localhost:8080/"
        },
        "id": "GIrffUBKcjq3",
        "outputId": "36b1b61c-b191-4f0e-d3d6-12004533a628"
      },
      "execution_count": null,
      "outputs": [
        {
          "output_type": "execute_result",
          "data": {
            "text/plain": [
              "250.0"
            ]
          },
          "metadata": {},
          "execution_count": 21
        }
      ]
    },
    {
      "cell_type": "markdown",
      "source": [
        "##Статистические функции с векторами\n"
      ],
      "metadata": {
        "id": "Voqn-GTvhmyX"
      }
    },
    {
      "cell_type": "code",
      "source": [
        "vec = np.array([2,7,18,28,18,1,8,4])\n",
        "print(vec.min())\n",
        "print(np.max(vec))\n",
        "print(vec.mean())"
      ],
      "metadata": {
        "colab": {
          "base_uri": "https://localhost:8080/"
        },
        "id": "9FCkaqRghtKy",
        "outputId": "1291c620-a9a5-48cc-8747-be55bef7cedb"
      },
      "execution_count": null,
      "outputs": [
        {
          "output_type": "stream",
          "name": "stdout",
          "text": [
            "1\n",
            "28\n",
            "10.75\n"
          ]
        }
      ]
    },
    {
      "cell_type": "markdown",
      "source": [
        "##Случайные числа"
      ],
      "metadata": {
        "id": "6WRWtrL_lPMH"
      }
    },
    {
      "cell_type": "markdown",
      "source": [
        "###Генерация float"
      ],
      "metadata": {
        "id": "d3cwVuczqOzA"
      }
    },
    {
      "cell_type": "code",
      "source": [
        "#Для генерации псевдослучайных чисел в NumPy существует подмодуль random.\n",
        "np.random.rand()"
      ],
      "metadata": {
        "colab": {
          "base_uri": "https://localhost:8080/"
        },
        "id": "FQo7cPA2luMV",
        "outputId": "d195bae9-d815-4ab4-87d3-155245798c8d"
      },
      "execution_count": null,
      "outputs": [
        {
          "output_type": "execute_result",
          "data": {
            "text/plain": [
              "0.49818694061013724"
            ]
          },
          "metadata": {},
          "execution_count": 25
        }
      ]
    },
    {
      "cell_type": "code",
      "source": [
        "#получаем рандомное число от 1 до 100\n",
        "np.random.rand() * 100"
      ],
      "metadata": {
        "colab": {
          "base_uri": "https://localhost:8080/"
        },
        "id": "PAc6_9b_m9ZE",
        "outputId": "314a8784-454b-4753-8d9f-75523e6b97c1"
      },
      "execution_count": null,
      "outputs": [
        {
          "output_type": "execute_result",
          "data": {
            "text/plain": [
              "72.93649765681427"
            ]
          },
          "metadata": {},
          "execution_count": 26
        }
      ]
    },
    {
      "cell_type": "code",
      "source": [
        "#Получаем массив из 5 рандомных чисел\n",
        "np.random.rand(5)"
      ],
      "metadata": {
        "colab": {
          "base_uri": "https://localhost:8080/"
        },
        "id": "Z8PsRmw-nGZw",
        "outputId": "84d594f0-f938-49fe-f126-1eeb66cd2044"
      },
      "execution_count": null,
      "outputs": [
        {
          "output_type": "execute_result",
          "data": {
            "text/plain": [
              "array([0.59895492, 0.80829596, 0.56575107, 0.10853285, 0.44534864])"
            ]
          },
          "metadata": {},
          "execution_count": 27
        }
      ]
    },
    {
      "cell_type": "code",
      "source": [
        "#Массив из двух случайных строк и трёх столбцов:\n",
        "np.random.rand(2, 3)"
      ],
      "metadata": {
        "colab": {
          "base_uri": "https://localhost:8080/"
        },
        "id": "saoc6QbTnM_v",
        "outputId": "8b48e0f1-2822-425f-c991-0873a6c3c003"
      },
      "execution_count": null,
      "outputs": [
        {
          "output_type": "execute_result",
          "data": {
            "text/plain": [
              "array([[0.9381164 , 0.71148284, 0.00288619],\n",
              "       [0.47854694, 0.3233838 , 0.12157079]])"
            ]
          },
          "metadata": {},
          "execution_count": 28
        }
      ]
    },
    {
      "cell_type": "code",
      "source": [
        "#При этом, передать кортеж в фунцию rand не получится\n",
        "shape = (3, 4)\n",
        "np.random.rand(shape)"
      ],
      "metadata": {
        "colab": {
          "base_uri": "https://localhost:8080/",
          "height": 280
        },
        "id": "iA1PNM5rnnzX",
        "outputId": "c0fe5fe1-7f8f-49be-ff29-6a7da7804617"
      },
      "execution_count": null,
      "outputs": [
        {
          "output_type": "error",
          "ename": "TypeError",
          "evalue": "'tuple' object cannot be interpreted as an integer",
          "traceback": [
            "\u001b[0;31m---------------------------------------------------------------------------\u001b[0m",
            "\u001b[0;31mTypeError\u001b[0m                                 Traceback (most recent call last)",
            "\u001b[0;32m<ipython-input-30-216a2360b8d4>\u001b[0m in \u001b[0;36m<cell line: 3>\u001b[0;34m()\u001b[0m\n\u001b[1;32m      1\u001b[0m \u001b[0;31m#При этом, передать кортеж в фунцию rand не получится\u001b[0m\u001b[0;34m\u001b[0m\u001b[0;34m\u001b[0m\u001b[0m\n\u001b[1;32m      2\u001b[0m \u001b[0mshape\u001b[0m \u001b[0;34m=\u001b[0m \u001b[0;34m(\u001b[0m\u001b[0;36m3\u001b[0m\u001b[0;34m,\u001b[0m \u001b[0;36m4\u001b[0m\u001b[0;34m)\u001b[0m\u001b[0;34m\u001b[0m\u001b[0;34m\u001b[0m\u001b[0m\n\u001b[0;32m----> 3\u001b[0;31m \u001b[0mnp\u001b[0m\u001b[0;34m.\u001b[0m\u001b[0mrandom\u001b[0m\u001b[0;34m.\u001b[0m\u001b[0mrand\u001b[0m\u001b[0;34m(\u001b[0m\u001b[0mshape\u001b[0m\u001b[0;34m)\u001b[0m\u001b[0;34m\u001b[0m\u001b[0;34m\u001b[0m\u001b[0m\n\u001b[0m",
            "\u001b[0;32mnumpy/random/mtrand.pyx\u001b[0m in \u001b[0;36mnumpy.random.mtrand.RandomState.rand\u001b[0;34m()\u001b[0m\n",
            "\u001b[0;32mnumpy/random/mtrand.pyx\u001b[0m in \u001b[0;36mnumpy.random.mtrand.RandomState.random_sample\u001b[0;34m()\u001b[0m\n",
            "\u001b[0;32m_common.pyx\u001b[0m in \u001b[0;36mnumpy.random._common.double_fill\u001b[0;34m()\u001b[0m\n",
            "\u001b[0;31mTypeError\u001b[0m: 'tuple' object cannot be interpreted as an integer"
          ]
        }
      ]
    },
    {
      "cell_type": "code",
      "source": [
        "# поэтому воспользуемся функцией sample\n",
        "shape = (2, 3)\n",
        "np.random.sample(shape)"
      ],
      "metadata": {
        "colab": {
          "base_uri": "https://localhost:8080/"
        },
        "id": "xTB6DrOmn1Af",
        "outputId": "af4b7c64-5212-4fb5-8dc6-2ed8c8857390"
      },
      "execution_count": null,
      "outputs": [
        {
          "output_type": "execute_result",
          "data": {
            "text/plain": [
              "array([[0.34170534, 0.96890275, 0.35482828],\n",
              "       [0.72067839, 0.32784688, 0.40061347]])"
            ]
          },
          "metadata": {},
          "execution_count": 31
        }
      ]
    },
    {
      "cell_type": "code",
      "source": [
        "#Если же нужно число не в диопазоне от 0 до 1, то есть функция uniform\n",
        "#uniform(low=0.0 нижн. граница, high=1.0 верхняя граница, size=None форма массива)\n",
        "print(np.random.uniform())\n",
        "print(np.random.uniform(400, -654))\n",
        "print(np.random.uniform(-49, 55, 10))\n",
        "print(np.random.uniform(54.6, 234, size = (2,3)))"
      ],
      "metadata": {
        "colab": {
          "base_uri": "https://localhost:8080/"
        },
        "id": "4O-BM_zxoQXv",
        "outputId": "17b5691d-da24-4e48-867f-27b020a73acd"
      },
      "execution_count": null,
      "outputs": [
        {
          "output_type": "stream",
          "name": "stdout",
          "text": [
            "0.8474409578000852\n",
            "166.8430651865824\n",
            "[  8.50237428  13.82525439  14.22540084   6.089562    -2.26352729\n",
            " -10.03158563 -30.84010663 -38.1411329    8.77769314 -32.73560343]\n",
            "[[ 83.05219386 219.57867137 119.20350359]\n",
            " [131.74731951 149.36877884  85.32334668]]\n"
          ]
        }
      ]
    },
    {
      "cell_type": "markdown",
      "source": [
        "### Генерация int\n",
        "для этого используется функция random.randint:\n",
        "\n",
        "Функцию randint нельзя запустить совсем без параметров, необходимо указать хотя бы одно число.\n",
        "\n",
        "* Если указан только аргумент low, числа будут генерироваться от 0 до low-1, то есть верхняя граница не включается.\n",
        "*  Если задать low и high, числа будут генерироваться от low (включительно) до high (не включительно).\n",
        "\n",
        "\n",
        "* size задаёт форму массива уже привычным для вас образом: одним числом — для одномерного или кортежем — для многомерного.\n",
        "* dtype позволяет задать конкретный тип данных, который должен быть использован в массиве."
      ],
      "metadata": {
        "id": "vQpeUzr5qWNR"
      }
    },
    {
      "cell_type": "code",
      "source": [
        "np.random.randint(4, size=(2,3))"
      ],
      "metadata": {
        "colab": {
          "base_uri": "https://localhost:8080/"
        },
        "id": "gUXdKgdnqxq8",
        "outputId": "bc3a35bb-907f-45cf-d1f0-48930ad2b72c"
      },
      "execution_count": null,
      "outputs": [
        {
          "output_type": "execute_result",
          "data": {
            "text/plain": [
              "array([[0, 3, 0],\n",
              "       [0, 3, 3]])"
            ]
          },
          "metadata": {},
          "execution_count": 36
        }
      ]
    },
    {
      "cell_type": "code",
      "source": [
        "np.random.randint(6, 12, size=(3,3))"
      ],
      "metadata": {
        "colab": {
          "base_uri": "https://localhost:8080/"
        },
        "id": "E3M_Ywfhq3UO",
        "outputId": "1812486b-2090-4119-9c32-30a1ab377d28"
      },
      "execution_count": null,
      "outputs": [
        {
          "output_type": "execute_result",
          "data": {
            "text/plain": [
              "array([[ 9, 10,  7],\n",
              "       [11,  8,  9],\n",
              "       [ 6,  9,  7]])"
            ]
          },
          "metadata": {},
          "execution_count": 37
        }
      ]
    },
    {
      "cell_type": "markdown",
      "source": [
        "##Генерация выборок"
      ],
      "metadata": {
        "id": "3byGOvdUtwc4"
      }
    },
    {
      "cell_type": "code",
      "source": [
        "#перемешать все числа в массиве можно с помощью random.shuffle\n",
        "arr = np.arange(6)\n",
        "print(np.random.shuffle(arr))\n",
        "arr\n",
        "#Функция random.shuffle перемешивает тот массив, к которому применяется, и возвращает None."
      ],
      "metadata": {
        "colab": {
          "base_uri": "https://localhost:8080/"
        },
        "id": "ecrPUtjDt1uH",
        "outputId": "d6f38d4f-b562-4815-b745-7d597e52b4dd"
      },
      "execution_count": null,
      "outputs": [
        {
          "output_type": "stream",
          "name": "stdout",
          "text": [
            "None\n"
          ]
        },
        {
          "output_type": "execute_result",
          "data": {
            "text/plain": [
              "array([1, 5, 4, 0, 2, 3])"
            ]
          },
          "metadata": {},
          "execution_count": 38
        }
      ]
    },
    {
      "cell_type": "code",
      "source": [
        "#теперь перемешаем массив, оставив предыдущий без изменений\n",
        "#В этом случае также не обязательно передавать в функцию массив\n",
        "playlist = [\"The Beatles\", \"Pink Floyd\", \"ACDC\", \"Deep Purple\"]\n",
        "shuffled = np.random.permutation(playlist)\n",
        "print(shuffled)\n",
        "print(playlist)"
      ],
      "metadata": {
        "colab": {
          "base_uri": "https://localhost:8080/"
        },
        "id": "VZvClNKbuKID",
        "outputId": "a51e49b9-a7ea-4b4a-9ca4-cb300d2fdb0a"
      },
      "execution_count": null,
      "outputs": [
        {
          "output_type": "stream",
          "name": "stdout",
          "text": [
            "['Deep Purple' 'ACDC' 'Pink Floyd' 'The Beatles']\n",
            "['The Beatles', 'Pink Floyd', 'ACDC', 'Deep Purple']\n"
          ]
        }
      ]
    },
    {
      "cell_type": "code",
      "source": [
        "#перемешаем числа в рандомном порядке\n",
        "np.random.permutation(10)"
      ],
      "metadata": {
        "colab": {
          "base_uri": "https://localhost:8080/"
        },
        "id": "HdKXLy1-ugnE",
        "outputId": "4c0f77f1-7ab5-454c-e26c-14a4e7685ddf"
      },
      "execution_count": null,
      "outputs": [
        {
          "output_type": "execute_result",
          "data": {
            "text/plain": [
              "array([8, 1, 5, 4, 2, 0, 9, 6, 7, 3])"
            ]
          },
          "metadata": {},
          "execution_count": 41
        }
      ]
    },
    {
      "cell_type": "code",
      "source": [
        "#Чтобы получить случайный набор объектов из массива, используется функция random.choice:\n",
        "#choice(a, size=None, replace=True)\n",
        "#а - сам массив\n",
        "#size = форма / размер массива\n",
        "# replace - параметр, определяющий могут ли повторяться элементы\n",
        "workers = ['Ivan', 'Nikita', 'Maria', 'John', 'Kate']\n",
        "choice = np.random.choice(workers, size = 2, replace = False)\n",
        "print(choice)"
      ],
      "metadata": {
        "colab": {
          "base_uri": "https://localhost:8080/"
        },
        "id": "qwLtYnDEuq0q",
        "outputId": "71f713ff-8067-4984-e340-5a8b3ac3426c"
      },
      "execution_count": null,
      "outputs": [
        {
          "output_type": "stream",
          "name": "stdout",
          "text": [
            "['Kate' 'John']\n"
          ]
        }
      ]
    },
    {
      "cell_type": "markdown",
      "source": [
        "##Seed генератора псевдослучайных чисел\n",
        "Иногда бывает необходимо получать одинаковые воспроизводимые последовательности случайных чисел, например чтобы проверить результаты вычислений, для которых использовались случайные числа, на предмет ошибок."
      ],
      "metadata": {
        "id": "3yD-UPq-wOPV"
      }
    },
    {
      "cell_type": "code",
      "source": [
        "np.random.seed(23)\n",
        "np.random.randint(10, size=(3,4))"
      ],
      "metadata": {
        "colab": {
          "base_uri": "https://localhost:8080/"
        },
        "id": "uRZP8gRXwb3_",
        "outputId": "0cff822d-a45e-4e1c-a67e-f08f00abe82b"
      },
      "execution_count": null,
      "outputs": [
        {
          "output_type": "execute_result",
          "data": {
            "text/plain": [
              "array([[3, 6, 8, 9],\n",
              "       [6, 8, 7, 9],\n",
              "       [3, 6, 1, 2]])"
            ]
          },
          "metadata": {},
          "execution_count": 43
        }
      ]
    },
    {
      "cell_type": "code",
      "source": [
        "np.random.seed(100)\n",
        "print(np.random.randint(10, size=3))\n",
        "print(np.random.randint(10, size=3))\n",
        "print(np.random.randint(10, size=3))"
      ],
      "metadata": {
        "colab": {
          "base_uri": "https://localhost:8080/"
        },
        "id": "CZqatZ-1wnQN",
        "outputId": "8519c67d-ca86-4d81-e025-e91cbfa814cc"
      },
      "execution_count": null,
      "outputs": [
        {
          "output_type": "stream",
          "name": "stdout",
          "text": [
            "[8 8 3]\n",
            "[7 7 0]\n",
            "[4 2 5]\n"
          ]
        }
      ]
    },
    {
      "cell_type": "code",
      "source": [
        "import numpy as np\n",
        "seed = 2021\n",
        "np.random.seed(seed)\n",
        "simple = np.random.rand()\n",
        "randoms = np.random.uniform(-150, 2021, 120)\n",
        "table = np.random.randint(1, 100, (3,2))\n",
        "even = np.arange(2, 17, 2)\n",
        "mix = np.random.permutation(even)\n",
        "select = np.random.choice(even, size = 3, replace = False)\n",
        "triplet = np.random.permutation(select)"
      ],
      "metadata": {
        "id": "6cCqtdBww9az"
      },
      "execution_count": null,
      "outputs": []
    },
    {
      "cell_type": "markdown",
      "source": [
        "###Задание 10.6\n",
        "\n",
        "Напишите функцию get_chess(a), которая принимает на вход длину стороны квадрата a и возвращает двумерный массив формы (a, a), заполненный 0 и 1 в шахматном порядке. В левом верхнем углу всегда должен быть ноль.\n",
        "\n",
        "Примечание. воспользуйтесь функцией np.zeros, а затем с помощью срезов без циклов задайте необходимым элементам значение 1.\n",
        "\n",
        "В Python для получения каждого второго элемента используется срез [::2]. Подумайте, как грамотно применить этот принцип к двумерному массиву."
      ],
      "metadata": {
        "id": "sJAw0vde5tHs"
      }
    },
    {
      "cell_type": "code",
      "source": [
        "#Создаём функцию\n",
        "def get_chess(a):\n",
        "  #создаём массив размером а * а\n",
        "  arr = np.zeros((a,a))\n",
        "  #подменяем нужные значения единицами\n",
        "  arr[::1, ::2] = 1\n",
        "  arr[::2, ::1] = 1\n",
        "  arr[::2, ::2] = 0\n",
        "\n",
        "  return arr\n",
        "get_chess(6)"
      ],
      "metadata": {
        "colab": {
          "base_uri": "https://localhost:8080/"
        },
        "id": "Okt5RMRX5sGV",
        "outputId": "072e82c3-7fb4-49a3-9cf5-09215df34453"
      },
      "execution_count": null,
      "outputs": [
        {
          "output_type": "execute_result",
          "data": {
            "text/plain": [
              "array([[0., 1., 0., 1., 0., 1.],\n",
              "       [1., 0., 1., 0., 1., 0.],\n",
              "       [0., 1., 0., 1., 0., 1.],\n",
              "       [1., 0., 1., 0., 1., 0.],\n",
              "       [0., 1., 0., 1., 0., 1.],\n",
              "       [1., 0., 1., 0., 1., 0.]])"
            ]
          },
          "metadata": {},
          "execution_count": 40
        }
      ]
    },
    {
      "cell_type": "code",
      "source": [
        "#идеальное решение:\n",
        "import numpy as np\n",
        "def get_chess(a):\n",
        "    arr = np.zeros((a,a))\n",
        "    arr[1::2, ::2] = 1\n",
        "    arr[::2, 1::2] = 1\n",
        "    return arr"
      ],
      "metadata": {
        "id": "gByxV5sGEHS5"
      },
      "execution_count": null,
      "outputs": []
    },
    {
      "cell_type": "markdown",
      "source": [
        "Вы разрабатываете приложение для прослушивания музыки. Конечно же, там будет доступна функция перемешивания плейлиста. Пользователю может настолько понравиться перемешанная версия плейлиста, что он захочет сохранить его копию. Однако вы не хотите хранить в памяти новую версию плейлиста, а просто хотите сохранять тот seed, с которым он был сгенерирован.\n",
        "\n",
        "Для этого напишите функцию shuffle_seed(array), которая принимает на вход массив из чисел, генерирует случайное число для seed в диапазоне от 0 до 2**32 - 1 (включительно) и возвращает кортеж: перемешанный с данным seed массив (исходный массив должен оставаться без изменений), а также seed, с которым этот массив был получен.\n",
        "Пример:"
      ],
      "metadata": {
        "id": "WTUCHhcEde29"
      }
    },
    {
      "cell_type": "code",
      "source": [
        "array = [1, 2, 3, 4, 5]\n",
        "shuffle_seed(array)\n",
        "# (array([1, 3, 2, 4, 5]), 2332342819)\n",
        "shuffle_seed(array)\n",
        "# (array([4, 5, 2, 3, 1]), 4155165971)\n"
      ],
      "metadata": {
        "id": "x7TN-CoIdjCi"
      },
      "execution_count": null,
      "outputs": []
    },
    {
      "cell_type": "code",
      "source": [
        "import numpy as np\n",
        "def shuffle_seed(array):\n",
        "  seed = np.random.randint(0, 2**32 - 1)\n",
        "  result = [array, seed]\n",
        "  result_tuple = tuple(result)\n",
        "  return result_tuple\n",
        "print(sorted(shuffle_seed([1, 2, 3, 4, 5, 10, 15])[0]) == sorted([1, 2, 3, 4, 5, 10, 15]))"
      ],
      "metadata": {
        "colab": {
          "base_uri": "https://localhost:8080/"
        },
        "id": "AL2XkE6MdkOp",
        "outputId": "70e50651-df10-45fb-ae1e-faeab2618b65"
      },
      "execution_count": null,
      "outputs": [
        {
          "output_type": "stream",
          "name": "stdout",
          "text": [
            "True\n"
          ]
        }
      ]
    },
    {
      "cell_type": "code",
      "source": [
        "#Идеальное решение\n",
        "import numpy as np\n",
        "\n",
        "def shuffle_seed(array):\n",
        "    seed = np.random.randint(2 ** 32)\n",
        "    np.random.seed(seed)\n",
        "    result = np.random.permutation(array)\n",
        "    return result, seed"
      ],
      "metadata": {
        "id": "93cOu7YMgWER"
      },
      "execution_count": null,
      "outputs": []
    },
    {
      "cell_type": "markdown",
      "source": [
        "Напишите функцию min_max_dist(*vectors), которая принимает на вход неограниченное число векторов через запятую. Гарантируется, что все векторы, которые передаются, одинаковой длины.\n",
        "\n",
        "Функция возвращает минимальное и максимальное расстояние между векторами в виде кортежа."
      ],
      "metadata": {
        "id": "SwrIbljHge9D"
      }
    },
    {
      "cell_type": "code",
      "source": [
        "vec1 = np.array([1,2,3])\n",
        "vec2 = np.array([4,5,6])\n",
        "vec3 = np.array([7, 8, 9])\n",
        "def min_max_dist(*vectors):\n",
        "  n = len(vectors)\n",
        "  distances = []\n",
        "  for i in range(n):\n",
        "        for j in range(i + 1, n):\n",
        "            dist = np.linalg.norm(vectors[i] - vectors[j])\n",
        "            distances.append(dist)\n",
        "  mm_list = [min(distances), max(distances)]\n",
        "  result = tuple(mm_list)\n",
        "\n",
        "  return result\n",
        "min_max_dist(vec1, vec2, vec3)"
      ],
      "metadata": {
        "colab": {
          "base_uri": "https://localhost:8080/",
          "height": 297
        },
        "id": "ToQWa3WOgl46",
        "outputId": "fa1b2f1e-2621-43aa-c195-60f14dbfce2b"
      },
      "execution_count": null,
      "outputs": [
        {
          "output_type": "error",
          "ename": "TypeError",
          "evalue": "'int' object is not callable",
          "traceback": [
            "\u001b[0;31m---------------------------------------------------------------------------\u001b[0m",
            "\u001b[0;31mTypeError\u001b[0m                                 Traceback (most recent call last)",
            "\u001b[0;32m<ipython-input-35-f7ebd8c66104>\u001b[0m in \u001b[0;36m<cell line: 17>\u001b[0;34m()\u001b[0m\n\u001b[1;32m     15\u001b[0m \u001b[0;34m\u001b[0m\u001b[0m\n\u001b[1;32m     16\u001b[0m   \u001b[0;32mreturn\u001b[0m \u001b[0mresult\u001b[0m\u001b[0;34m\u001b[0m\u001b[0;34m\u001b[0m\u001b[0m\n\u001b[0;32m---> 17\u001b[0;31m \u001b[0mmin_max_dist\u001b[0m\u001b[0;34m(\u001b[0m\u001b[0mvec1\u001b[0m\u001b[0;34m,\u001b[0m \u001b[0mvec2\u001b[0m\u001b[0;34m,\u001b[0m \u001b[0mvec3\u001b[0m\u001b[0;34m)\u001b[0m\u001b[0;34m\u001b[0m\u001b[0;34m\u001b[0m\u001b[0m\n\u001b[0m",
            "\u001b[0;32m<ipython-input-35-f7ebd8c66104>\u001b[0m in \u001b[0;36mmin_max_dist\u001b[0;34m(*vectors)\u001b[0m\n\u001b[1;32m      3\u001b[0m \u001b[0mvec3\u001b[0m \u001b[0;34m=\u001b[0m \u001b[0mnp\u001b[0m\u001b[0;34m.\u001b[0m\u001b[0marray\u001b[0m\u001b[0;34m(\u001b[0m\u001b[0;34m[\u001b[0m\u001b[0;36m7\u001b[0m\u001b[0;34m,\u001b[0m \u001b[0;36m8\u001b[0m\u001b[0;34m,\u001b[0m \u001b[0;36m9\u001b[0m\u001b[0;34m]\u001b[0m\u001b[0;34m)\u001b[0m\u001b[0;34m\u001b[0m\u001b[0;34m\u001b[0m\u001b[0m\n\u001b[1;32m      4\u001b[0m \u001b[0;32mdef\u001b[0m \u001b[0mmin_max_dist\u001b[0m\u001b[0;34m(\u001b[0m\u001b[0;34m*\u001b[0m\u001b[0mvectors\u001b[0m\u001b[0;34m)\u001b[0m\u001b[0;34m:\u001b[0m\u001b[0;34m\u001b[0m\u001b[0;34m\u001b[0m\u001b[0m\n\u001b[0;32m----> 5\u001b[0;31m   \u001b[0mn\u001b[0m \u001b[0;34m=\u001b[0m \u001b[0mlen\u001b[0m\u001b[0;34m(\u001b[0m\u001b[0mvectors\u001b[0m\u001b[0;34m)\u001b[0m\u001b[0;34m\u001b[0m\u001b[0;34m\u001b[0m\u001b[0m\n\u001b[0m\u001b[1;32m      6\u001b[0m   \u001b[0mdistances\u001b[0m \u001b[0;34m=\u001b[0m \u001b[0;34m[\u001b[0m\u001b[0;34m]\u001b[0m\u001b[0;34m\u001b[0m\u001b[0;34m\u001b[0m\u001b[0m\n\u001b[1;32m      7\u001b[0m   \u001b[0;32mfor\u001b[0m \u001b[0mi\u001b[0m \u001b[0;32min\u001b[0m \u001b[0mrange\u001b[0m\u001b[0;34m(\u001b[0m\u001b[0mn\u001b[0m\u001b[0;34m)\u001b[0m\u001b[0;34m:\u001b[0m\u001b[0;34m\u001b[0m\u001b[0;34m\u001b[0m\u001b[0m\n",
            "\u001b[0;31mTypeError\u001b[0m: 'int' object is not callable"
          ]
        }
      ]
    },
    {
      "cell_type": "markdown",
      "source": [
        "Как работает этот цикл:\n",
        "Переменная n:\n",
        "\n",
        "В начале функции мы вычисляем количество переданных векторов: n = len(vectors). Это даёт нам количество векторов, которые нужно проверить.\n",
        "Внешний цикл for i in range(n):\n",
        "\n",
        "Этот цикл перебирает индексы векторов от 0 до n-1.\n",
        "i — индекс текущего вектора. Этот цикл гарантирует, что для каждого вектора мы будем проверять расстояние до всех остальных векторов, которые ещё не были проверены.\n",
        "Внутренний цикл for j in range(i + 1, n):\n",
        "\n",
        "Внутри внешнего цикла есть ещё один цикл. Он перебирает индексы всех векторов, которые идут после текущего вектора с индексом i.\n",
        "j — это индекс следующего вектора, с которым мы будем сравнивать вектор с индексом i.\n",
        "Цикл начинается с i + 1, чтобы:\n",
        "Избежать повторных вычислений: расстояние между векторами A и B то же самое, что и расстояние между векторами B и A, поэтому мы проверяем каждую пару векторов только один раз.\n",
        "Не сравнивать вектор с самим собой, так как расстояние между одним и тем же вектором всегда равно 0.\n",
        "Вычисление расстояния:\n",
        "\n",
        "Для каждой пары векторов с индексами i и j мы вычисляем расстояние между ними с помощью:\n",
        "python\n",
        "Copy code\n",
        "dist = np.linalg.norm(vectors[i] - vectors[j])\n",
        "Здесь мы используем функцию np.linalg.norm(), чтобы вычислить евклидово расстояние между двумя векторами.\n",
        "Сохранение результата:\n",
        "\n",
        "Полученное расстояние добавляется в список distances:\n",
        "python\n",
        "Copy code\n",
        "distances.append(dist)\n",
        "Пример работы на трёх векторах:\n",
        "Допустим, у нас есть три вектора:\n",
        "\n",
        "python\n",
        "Copy code\n",
        "vec1 = np.array([1, 2, 3])\n",
        "vec2 = np.array([4, 5, 6])\n",
        "vec3 = np.array([7, 8, 9])\n",
        "В этом случае:\n",
        "\n",
        "Внешний цикл:\n",
        "i = 0 (первый вектор vec1)\n",
        "Внутренний цикл:\n",
        "j = 1 (второй вектор vec2): считаем расстояние между vec1 и vec2.\n",
        "j = 2 (третий вектор vec3): считаем расстояние между vec1 и vec3.\n",
        "i = 1 (второй вектор vec2)\n",
        "Внутренний цикл:\n",
        "j = 2 (третий вектор vec3): считаем расстояние между vec2 и vec3.\n",
        "Таким образом, все три пары будут обработаны: (vec1, vec2), (vec1, vec3), и (vec2, vec3).\n",
        "\n",
        "Вывод:\n",
        "В результате мы получаем список всех расстояний между парами векторов. После этого, с помощью min(distances) и max(distances), находим минимальное и максимальное расстояние между векторами."
      ],
      "metadata": {
        "id": "6s_80uAA5OJF"
      }
    },
    {
      "cell_type": "markdown",
      "source": [
        "Напишите функцию any_normal, которая принимает на вход неограниченное число векторов через запятую. Гарантируется, что все векторы, которые передаются, одинаковой длины.\n",
        "\n",
        "Функция возвращает True, если есть хотя бы одна пара перпендикулярных векторов. Иначе возвращает False."
      ],
      "metadata": {
        "id": "y1yUhwgnuG_y"
      }
    },
    {
      "cell_type": "code",
      "source": [
        "import numpy as np\n",
        "vec1 = np.array([2, 1])\n",
        "vec2 = np.array([-1, 2])\n",
        "vec3 = np.array([3,4])\n",
        "def any_normal(*vectors):\n",
        "    n = len(vectors)\n",
        "    perp_vec_count = 0\n",
        "    for i in range (n):\n",
        "        for j in range (i + 1, n):\n",
        "            scalar_product = np.dot(vectors[i], vectors[j])\n",
        "            if scalar_product == 0:\n",
        "                perp_vec_count +=1\n",
        "            else: pass\n",
        "    if  perp_vec_count == 0: return False\n",
        "    else: return True\n",
        "print(any_normal(vec1, vec2, vec3))"
      ],
      "metadata": {
        "id": "YkO3zWIluKfn",
        "colab": {
          "base_uri": "https://localhost:8080/"
        },
        "outputId": "2b43b374-5079-4eeb-af3b-c50c530c73a7"
      },
      "execution_count": null,
      "outputs": [
        {
          "output_type": "stream",
          "name": "stdout",
          "text": [
            "True\n"
          ]
        }
      ]
    },
    {
      "cell_type": "markdown",
      "source": [
        "Задание 10.10\n",
        "Напишите функцию get_loto(num), генерирующую трёхмерный массив случайных целых чисел от 1 до 100 (включительно). Это поля для игры в лото.\n",
        "\n",
        "Трёхмерный массив должен состоять из таблиц чисел формы 5х5, то есть итоговая форма — (num, 5, 5).\n",
        "\n",
        "Функция возвращает полученный массив.\n",
        "\n",
        "Пример\n",
        "\n",
        "\n",
        "```\n",
        "get_loto(3)\n",
        "\n",
        "array([[[ 35,  66,  38,  11,  32],\n",
        "       [ 32,   7,  37,  83,  42],\n",
        "       [ 89,  37,  19,  51,  89],\n",
        "       [ 70, 100,  83,   5,  11],\n",
        "       [ 20,  13,  60,  26,  41]],\n",
        "\n",
        "      [[ 23,  49,  76,  44,  43],\n",
        "       [ 59,  63,  99,  92,   2],\n",
        "       [ 83,   4,  25,  73,  19],\n",
        "       [ 10,  18,  40,  11,  21],\n",
        "       [ 58,  45,  73,  93,  61]],\n",
        "\n",
        "      [[100,  88,  70,  34,  51],\n",
        "       [  5,  35,  36,  85,  88],\n",
        "       [ 72,  23,  87,  30,  40],\n",
        "       [ 29,  21,  51,  73,  81],\n",
        "       [ 91,  19,  87,  60,  27]]])\n",
        "```"
      ],
      "metadata": {
        "id": "ISYEO_qCz7gy"
      }
    },
    {
      "cell_type": "code",
      "source": [
        "def get_loto(num):\n",
        "  arr = np.random.randint(0, 101, size=(num, 5, 5))\n",
        "  return arr\n",
        "print(get_loto(3))"
      ],
      "metadata": {
        "colab": {
          "base_uri": "https://localhost:8080/"
        },
        "id": "-gBtHYNy0Hjs",
        "outputId": "72a6d245-dae0-4855-8cde-ddc6d780e4ef"
      },
      "execution_count": null,
      "outputs": [
        {
          "output_type": "stream",
          "name": "stdout",
          "text": [
            "[[[ 0 99 25 67 46]\n",
            "  [95 91 86 89 91]\n",
            "  [98 47  2 84 33]\n",
            "  [73 71 57 65 60]\n",
            "  [69  6 85 25 87]]\n",
            "\n",
            " [[34 67 64 12 61]\n",
            "  [87 76 43 82 12]\n",
            "  [ 2 20  4  6 31]\n",
            "  [22 78 41 53 52]\n",
            "  [66 33 68 60 60]]\n",
            "\n",
            " [[37 22 20 94 45]\n",
            "  [89 64  2 83 29]\n",
            "  [78 11 36 30 38]\n",
            "  [39  9 64 30  7]\n",
            "  [55 58 17 40 86]]]\n"
          ]
        }
      ]
    },
    {
      "cell_type": "markdown",
      "source": [
        "Задание 10.11:\n",
        "\n",
        "Напишите функцию get_unique_loto(num). Она так же, как и функция в задании 49.9.10, генерирует num полей для игры в лото, однако теперь на каждом поле 5х5 числа не могут повторяться.\n",
        "\n",
        "Функция также должна возвращать массив формы num x 5 x 5."
      ],
      "metadata": {
        "id": "LSJeiqT83F7V"
      }
    },
    {
      "cell_type": "code",
      "source": [
        "\n",
        "print(get_unique_loto(3))"
      ],
      "metadata": {
        "colab": {
          "base_uri": "https://localhost:8080/"
        },
        "id": "omH9pqco-Dci",
        "outputId": "72b6e3cb-1b76-4462-ccbb-3a2ed7e571ce"
      },
      "execution_count": null,
      "outputs": [
        {
          "output_type": "stream",
          "name": "stdout",
          "text": [
            "[[[ 62  14  37  44   2]\n",
            "  [ 70  11  61  39  72]\n",
            "  [ 78  57  38  58  98]\n",
            "  [ 28  48  13  60 100]\n",
            "  [ 89   4  99  35  81]]\n",
            "\n",
            " [[ 75  36  44  48  41]\n",
            "  [ 98  82  70  79  87]\n",
            "  [ 85  15  34  69  77]\n",
            "  [ 57  51  18  65  81]\n",
            "  [ 88  16  22  74  76]]\n",
            "\n",
            " [[ 98  22  57  27  50]\n",
            "  [ 62  87  23  43  82]\n",
            "  [  6  28  76  88  33]\n",
            "  [ 40  61  70  55  71]\n",
            "  [ 30  79 100  92  96]]]\n"
          ]
        }
      ]
    },
    {
      "cell_type": "code",
      "source": [],
      "metadata": {
        "id": "oDkVVmnZB4oj"
      },
      "execution_count": null,
      "outputs": []
    }
  ],
  "metadata": {
    "kernelspec": {
      "display_name": "Python 3",
      "language": "python",
      "name": "python3"
    },
    "language_info": {
      "codemirror_mode": {
        "name": "ipython",
        "version": 3
      },
      "file_extension": ".py",
      "mimetype": "text/x-python",
      "name": "python",
      "nbconvert_exporter": "python",
      "pygments_lexer": "ipython3",
      "version": "3.11.9"
    },
    "colab": {
      "provenance": []
    }
  },
  "nbformat": 4,
  "nbformat_minor": 0
}